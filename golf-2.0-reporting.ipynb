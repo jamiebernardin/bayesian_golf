{
 "cells": [
  {
   "cell_type": "code",
   "execution_count": 5,
   "metadata": {
    "collapsed": false
   },
   "outputs": [],
   "source": [
    "import util\n",
    "import pandas as pd\n",
    "import numpy as np\n",
    "import matplotlib.pyplot as plt"
   ]
  },
  {
   "cell_type": "code",
   "execution_count": 36,
   "metadata": {
    "collapsed": false
   },
   "outputs": [],
   "source": [
    "sqlTxt = '''\n",
    "select  name, year, tag, tau, sigma, beta \n",
    "  from  players p, stan_players sp \n",
    "  where p.player_id = sp.player_id;\n",
    "'''\n",
    "p_df = util.pd_from_sql(sqlTxt)\n",
    "\n",
    "sqlTxt = '''\n",
    "select  name, st.year, tag, alpha\n",
    "  from  tournaments t, stan_tournaments st \n",
    "  where t.permanent_tournament_id = st.permanent_tournament_id\n",
    "    and t.year = st.year\n",
    "'''\n",
    "t_df = util.pd_from_sql(sqlTxt)"
   ]
  },
  {
   "cell_type": "code",
   "execution_count": 31,
   "metadata": {
    "collapsed": false
   },
   "outputs": [
    {
     "data": {
      "text/html": [
       "<div>\n",
       "<table border=\"1\" class=\"dataframe\">\n",
       "  <thead>\n",
       "    <tr style=\"text-align: right;\">\n",
       "      <th></th>\n",
       "      <th>name</th>\n",
       "      <th>year</th>\n",
       "      <th>tag</th>\n",
       "      <th>tau</th>\n",
       "      <th>sigma</th>\n",
       "      <th>beta</th>\n",
       "    </tr>\n",
       "  </thead>\n",
       "  <tbody>\n",
       "    <tr>\n",
       "      <th>29</th>\n",
       "      <td>Dustin Johnson</td>\n",
       "      <td>2014</td>\n",
       "      <td>top-200</td>\n",
       "      <td>(70.058,0.059,0.624)</td>\n",
       "      <td>(3.653,0.013,0.435)</td>\n",
       "      <td>(0.658,0.022,0.964)</td>\n",
       "    </tr>\n",
       "    <tr>\n",
       "      <th>233</th>\n",
       "      <td>Dustin Johnson</td>\n",
       "      <td>2015</td>\n",
       "      <td>top-200</td>\n",
       "      <td>(69.598,0.036,0.508)</td>\n",
       "      <td>(3.548,0.008,0.346)</td>\n",
       "      <td>(-0.493,0.022,0.966)</td>\n",
       "    </tr>\n",
       "    <tr>\n",
       "      <th>402</th>\n",
       "      <td>Dustin Johnson</td>\n",
       "      <td>2016</td>\n",
       "      <td>top-200</td>\n",
       "      <td>(69.252,0.046,0.527)</td>\n",
       "      <td>(3.672,0.007,0.327)</td>\n",
       "      <td>(-0.485,0.022,0.962)</td>\n",
       "    </tr>\n",
       "  </tbody>\n",
       "</table>\n",
       "</div>"
      ],
      "text/plain": [
       "               name  year      tag                   tau                sigma  \\\n",
       "29   Dustin Johnson  2014  top-200  (70.058,0.059,0.624)  (3.653,0.013,0.435)   \n",
       "233  Dustin Johnson  2015  top-200  (69.598,0.036,0.508)  (3.548,0.008,0.346)   \n",
       "402  Dustin Johnson  2016  top-200  (69.252,0.046,0.527)  (3.672,0.007,0.327)   \n",
       "\n",
       "                     beta  \n",
       "29    (0.658,0.022,0.964)  \n",
       "233  (-0.493,0.022,0.966)  \n",
       "402  (-0.485,0.022,0.962)  "
      ]
     },
     "execution_count": 31,
     "metadata": {},
     "output_type": "execute_result"
    }
   ],
   "source": [
    "p_df[p_df['name'] == 'Dustin Johnson']"
   ]
  },
  {
   "cell_type": "code",
   "execution_count": 39,
   "metadata": {
    "collapsed": false
   },
   "outputs": [
    {
     "data": {
      "text/html": [
       "<div>\n",
       "<table border=\"1\" class=\"dataframe\">\n",
       "  <thead>\n",
       "    <tr style=\"text-align: right;\">\n",
       "      <th></th>\n",
       "      <th>name</th>\n",
       "      <th>year</th>\n",
       "      <th>tag</th>\n",
       "      <th>alpha</th>\n",
       "    </tr>\n",
       "  </thead>\n",
       "  <tbody>\n",
       "    <tr>\n",
       "      <th>1</th>\n",
       "      <td>THE PLAYERS Championship</td>\n",
       "      <td>2014</td>\n",
       "      <td>top-200</td>\n",
       "      <td>(1.867,0.065,0.354)</td>\n",
       "    </tr>\n",
       "    <tr>\n",
       "      <th>42</th>\n",
       "      <td>THE PLAYERS Championship</td>\n",
       "      <td>2015</td>\n",
       "      <td>top-200</td>\n",
       "      <td>(2.26,0.039,0.273)</td>\n",
       "    </tr>\n",
       "    <tr>\n",
       "      <th>83</th>\n",
       "      <td>THE PLAYERS Championship</td>\n",
       "      <td>2016</td>\n",
       "      <td>top-200</td>\n",
       "      <td>(2.007,0.049,0.311)</td>\n",
       "    </tr>\n",
       "  </tbody>\n",
       "</table>\n",
       "</div>"
      ],
      "text/plain": [
       "                        name  year      tag                alpha\n",
       "1   THE PLAYERS Championship  2014  top-200  (1.867,0.065,0.354)\n",
       "42  THE PLAYERS Championship  2015  top-200   (2.26,0.039,0.273)\n",
       "83  THE PLAYERS Championship  2016  top-200  (2.007,0.049,0.311)"
      ]
     },
     "execution_count": 39,
     "metadata": {},
     "output_type": "execute_result"
    }
   ],
   "source": [
    "t_df[t_df['name'] == 'THE PLAYERS Championship']"
   ]
  },
  {
   "cell_type": "code",
   "execution_count": null,
   "metadata": {
    "collapsed": true
   },
   "outputs": [],
   "source": []
  }
 ],
 "metadata": {
  "kernelspec": {
   "display_name": "Python 2",
   "language": "python",
   "name": "python2"
  },
  "language_info": {
   "codemirror_mode": {
    "name": "ipython",
    "version": 2
   },
   "file_extension": ".py",
   "mimetype": "text/x-python",
   "name": "python",
   "nbconvert_exporter": "python",
   "pygments_lexer": "ipython2",
   "version": "2.7.13"
  }
 },
 "nbformat": 4,
 "nbformat_minor": 2
}
