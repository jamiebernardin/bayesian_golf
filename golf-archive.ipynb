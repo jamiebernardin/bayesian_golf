{
 "cells": [
  {
   "cell_type": "code",
   "execution_count": null,
   "metadata": {
    "collapsed": true
   },
   "outputs": [],
   "source": [
    "# Autoregressive Moving Average Model (1,1)\n",
    "\n",
    "code = \"\"\"\n",
    "data {\n",
    "  int<lower=1> T;          // num observations\n",
    "  real y[T];               // observed outputs\n",
    "}\n",
    "parameters {\n",
    "  real mu;                 // mean coeff\n",
    "  real phi;                // autoregression coeff\n",
    "  real theta;              // moving avg coeff\n",
    "  real<lower=0> sigma;     // noise scale\n",
    "}\n",
    "model {\n",
    "  vector[T] nu;           // prediction for time t\n",
    "  vector[T] err;          // error for time t\n",
    "  nu[1] = mu + phi * mu;  // assume err[0] == 0\n",
    "  err[1] = y[1] - nu[1];\n",
    "  for (t in 2:T) {\n",
    "    nu[t] = mu + phi * y[t-1] + theta * err[t-1];\n",
    "    err[t] = y[t] - nu[t];\n",
    "  }\n",
    "  mu ~ normal(0, 10);         // priors\n",
    "  phi ~ normal(0, 2);\n",
    "  theta ~ normal(0, 2);\n",
    "  sigma ~ cauchy(0, 5);\n",
    "  err ~ normal(0, sigma);      // likelihood\n",
    "}\n",
    "\"\"\"\n",
    "data = {\n",
    "    'T': len (player),\n",
    "    'y': player.tolist()\n",
    "}\n",
    "\n",
    "fit = pystan.stan(model_code=code, data=data, iter=1000, chains=1)\n",
    "print fit\n",
    "fit.plot(['mu','phi', 'sigma', 'theta'])\n",
    "plt.tight_layout()"
   ]
  },
  {
   "cell_type": "code",
   "execution_count": null,
   "metadata": {
    "collapsed": true
   },
   "outputs": [],
   "source": [
    "// Moving Average MA(2)\n",
    "\n",
    "code = \"\"\"\n",
    "data {\n",
    "      int<lower=3> T;  // number of observations\n",
    "      vector[T] y;     // observation at time T\n",
    "    }\n",
    "    parameters {\n",
    "      real mu;              // mean\n",
    "      real<lower=0> sigma;  // error scale\n",
    "      vector[2] theta;      // lag coefficients\n",
    "    }\n",
    "    transformed parameters {\n",
    "      vector[T] epsilon;    // error terms\n",
    "      epsilon[1] = y[1] - mu;\n",
    "      epsilon[2] = y[2] - mu - theta[1] * epsilon[1];\n",
    "      for (t in 3:T)\n",
    "        epsilon[t] = ( y[t] - mu\n",
    "                        - theta[1] * epsilon[t - 1]\n",
    "                        - theta[2] * epsilon[t - 2] );\n",
    "} model {\n",
    "      mu ~ cauchy(0, 2.5);\n",
    "      theta ~ cauchy(0, 2.5);\n",
    "      sigma ~ cauchy(0, 2.5);\n",
    "      for (t in 3:T)\n",
    "        y[t] ~ normal(mu\n",
    "                      + theta[1] * epsilon[t - 1]\n",
    "                      + theta[2] * epsilon[t - 2],\n",
    "                      sigma);\n",
    "}\n",
    "\"\"\"\n",
    "data = {\n",
    "    'T': len (player),\n",
    "    'y': player.tolist()\n",
    "}\n",
    "\n",
    "fit = pystan.stan(model_code=code, data=data, iter=1000, chains=1)\n",
    "print fit\n",
    "fit.plot(['mu','sigma', 'theta'])\n",
    "plt.tight_layout()"
   ]
  },
  {
   "cell_type": "code",
   "execution_count": null,
   "metadata": {
    "collapsed": true
   },
   "outputs": [],
   "source": []
  }
 ],
 "metadata": {
  "kernelspec": {
   "display_name": "Python 2",
   "language": "python",
   "name": "python2"
  },
  "language_info": {
   "codemirror_mode": {
    "name": "ipython",
    "version": 2
   },
   "file_extension": ".py",
   "mimetype": "text/x-python",
   "name": "python",
   "nbconvert_exporter": "python",
   "pygments_lexer": "ipython2",
   "version": "2.7.13"
  }
 },
 "nbformat": 4,
 "nbformat_minor": 2
}
