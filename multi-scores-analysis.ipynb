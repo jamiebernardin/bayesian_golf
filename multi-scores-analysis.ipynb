{
 "cells": [
  {
   "cell_type": "code",
   "execution_count": 5,
   "metadata": {
    "collapsed": false,
    "deletable": true,
    "editable": true
   },
   "outputs": [],
   "source": [
    "import util\n",
    "import pandas as pd\n",
    "import numpy as np\n",
    "import matplotlib.pyplot as plt"
   ]
  },
  {
   "cell_type": "code",
   "execution_count": 54,
   "metadata": {
    "collapsed": false,
    "deletable": true,
    "editable": true
   },
   "outputs": [],
   "source": [
    "sqlTxt = '''\n",
    "select  name, year, tag, tau, sigma, beta \n",
    "  from  players p, stan_players sp \n",
    "  where p.player_id = sp.player_id;\n",
    "'''\n",
    "p_df = util.pd_from_sql(sqlTxt)\n",
    "\n",
    "sqlTxt = '''\n",
    "select  name, st.year, tag, alpha\n",
    "  from  tournaments t, stan_tournaments st \n",
    "  where t.permanent_tournament_id = st.permanent_tournament_id\n",
    "    and t.year = st.year\n",
    "    order by tag, st.year \n",
    "'''\n",
    "t_df = util.pd_from_sql(sqlTxt)"
   ]
  },
  {
   "cell_type": "code",
   "execution_count": null,
   "metadata": {
    "collapsed": true,
    "deletable": true,
    "editable": true
   },
   "outputs": [],
   "source": [
    "# offset = np.mean([round(means[i][0],2) for i in range(0,num_tournaments)])\n",
    "# print offset\n",
    "# top_players = 20\n",
    "# avg_score = [round(means[i][0],2) for i in range(num_tournaments+num_players,num_tournaments+2*num_players)]\n",
    "# std_score = [round(means[i][0],2) for i in range(num_tournaments,num_tournaments+num_players)]\n",
    "# sqlTxt = '''\n",
    "# select * from stats_view where year = 2014 limit 100; \n",
    "# '''\n",
    "df = util.pd_from_sql(sqlTxt)\n",
    "# foo = plt.errorbar(range(0, top_players), df['avg_score'][0:top_players], df['std_score'][0:top_players], linestyle='None', marker='^')\n",
    "foo = plt.errorbar(range(0, top_players), avg_score[0:top_players] + offset, df['std_score'][0:top_players], linestyle='None', marker='^')\n",
    "foo = plt.errorbar(range(0, top_players), avg_score[0:top_players] + offset, std_score[0:top_players], linestyle='None', marker='^')\n",
    "print np.mean(std_score), np.mean(df['std_score']) "
   ]
  },
  {
   "cell_type": "code",
   "execution_count": 55,
   "metadata": {
    "collapsed": false,
    "deletable": true,
    "editable": true
   },
   "outputs": [
    {
     "data": {
      "text/html": [
       "<div>\n",
       "<table border=\"1\" class=\"dataframe\">\n",
       "  <thead>\n",
       "    <tr style=\"text-align: right;\">\n",
       "      <th></th>\n",
       "      <th>name</th>\n",
       "      <th>year</th>\n",
       "      <th>tag</th>\n",
       "      <th>tau</th>\n",
       "      <th>sigma</th>\n",
       "      <th>beta</th>\n",
       "    </tr>\n",
       "  </thead>\n",
       "  <tbody>\n",
       "    <tr>\n",
       "      <th>29</th>\n",
       "      <td>Dustin Johnson</td>\n",
       "      <td>2014</td>\n",
       "      <td>top-200</td>\n",
       "      <td>(70.058,0.059,0.624)</td>\n",
       "      <td>(3.653,0.013,0.435)</td>\n",
       "      <td>(0.658,0.022,0.964)</td>\n",
       "    </tr>\n",
       "    <tr>\n",
       "      <th>233</th>\n",
       "      <td>Dustin Johnson</td>\n",
       "      <td>2015</td>\n",
       "      <td>top-200</td>\n",
       "      <td>(69.598,0.036,0.508)</td>\n",
       "      <td>(3.548,0.008,0.346)</td>\n",
       "      <td>(-0.493,0.022,0.966)</td>\n",
       "    </tr>\n",
       "    <tr>\n",
       "      <th>402</th>\n",
       "      <td>Dustin Johnson</td>\n",
       "      <td>2016</td>\n",
       "      <td>top-200</td>\n",
       "      <td>(69.252,0.046,0.527)</td>\n",
       "      <td>(3.672,0.007,0.327)</td>\n",
       "      <td>(-0.485,0.022,0.962)</td>\n",
       "    </tr>\n",
       "    <tr>\n",
       "      <th>602</th>\n",
       "      <td>Dustin Johnson</td>\n",
       "      <td>2016</td>\n",
       "      <td>top-50</td>\n",
       "      <td>(69.447,0.042,0.57)</td>\n",
       "      <td>(3.688,0.007,0.331)</td>\n",
       "      <td>(-0.295,0.023,1.008)</td>\n",
       "    </tr>\n",
       "    <tr>\n",
       "      <th>683</th>\n",
       "      <td>Dustin Johnson</td>\n",
       "      <td>2015</td>\n",
       "      <td>top-50</td>\n",
       "      <td>(69.749,0.012,0.54)</td>\n",
       "      <td>(3.523,0.007,0.329)</td>\n",
       "      <td>(-0.423,0.022,0.992)</td>\n",
       "    </tr>\n",
       "    <tr>\n",
       "      <th>729</th>\n",
       "      <td>Dustin Johnson</td>\n",
       "      <td>2014</td>\n",
       "      <td>top-50</td>\n",
       "      <td>(70.105,0.015,0.659)</td>\n",
       "      <td>(3.654,0.009,0.42)</td>\n",
       "      <td>(0.678,0.021,0.956)</td>\n",
       "    </tr>\n",
       "  </tbody>\n",
       "</table>\n",
       "</div>"
      ],
      "text/plain": [
       "               name  year      tag                   tau                sigma  \\\n",
       "29   Dustin Johnson  2014  top-200  (70.058,0.059,0.624)  (3.653,0.013,0.435)   \n",
       "233  Dustin Johnson  2015  top-200  (69.598,0.036,0.508)  (3.548,0.008,0.346)   \n",
       "402  Dustin Johnson  2016  top-200  (69.252,0.046,0.527)  (3.672,0.007,0.327)   \n",
       "602  Dustin Johnson  2016   top-50   (69.447,0.042,0.57)  (3.688,0.007,0.331)   \n",
       "683  Dustin Johnson  2015   top-50   (69.749,0.012,0.54)  (3.523,0.007,0.329)   \n",
       "729  Dustin Johnson  2014   top-50  (70.105,0.015,0.659)   (3.654,0.009,0.42)   \n",
       "\n",
       "                     beta  \n",
       "29    (0.658,0.022,0.964)  \n",
       "233  (-0.493,0.022,0.966)  \n",
       "402  (-0.485,0.022,0.962)  \n",
       "602  (-0.295,0.023,1.008)  \n",
       "683  (-0.423,0.022,0.992)  \n",
       "729   (0.678,0.021,0.956)  "
      ]
     },
     "execution_count": 55,
     "metadata": {},
     "output_type": "execute_result"
    }
   ],
   "source": [
    "p_df[p_df['name'] == 'Dustin Johnson']"
   ]
  },
  {
   "cell_type": "code",
   "execution_count": null,
   "metadata": {
    "collapsed": true,
    "deletable": true,
    "editable": true
   },
   "outputs": [],
   "source": []
  },
  {
   "cell_type": "code",
   "execution_count": 43,
   "metadata": {
    "collapsed": false,
    "deletable": true,
    "editable": true
   },
   "outputs": [
    {
     "data": {
      "text/html": [
       "<div>\n",
       "<table border=\"1\" class=\"dataframe\">\n",
       "  <thead>\n",
       "    <tr style=\"text-align: right;\">\n",
       "      <th></th>\n",
       "      <th>name</th>\n",
       "      <th>year</th>\n",
       "      <th>tag</th>\n",
       "      <th>alpha</th>\n",
       "    </tr>\n",
       "  </thead>\n",
       "  <tbody>\n",
       "    <tr>\n",
       "      <th>1</th>\n",
       "      <td>THE PLAYERS Championship</td>\n",
       "      <td>2014</td>\n",
       "      <td>top-200</td>\n",
       "      <td>(1.867,0.065,0.354)</td>\n",
       "    </tr>\n",
       "    <tr>\n",
       "      <th>42</th>\n",
       "      <td>THE PLAYERS Championship</td>\n",
       "      <td>2015</td>\n",
       "      <td>top-200</td>\n",
       "      <td>(2.26,0.039,0.273)</td>\n",
       "    </tr>\n",
       "    <tr>\n",
       "      <th>83</th>\n",
       "      <td>THE PLAYERS Championship</td>\n",
       "      <td>2016</td>\n",
       "      <td>top-200</td>\n",
       "      <td>(2.007,0.049,0.311)</td>\n",
       "    </tr>\n",
       "    <tr>\n",
       "      <th>123</th>\n",
       "      <td>THE PLAYERS Championship</td>\n",
       "      <td>2016</td>\n",
       "      <td>top-50</td>\n",
       "      <td>(1.791,0.041,0.417)</td>\n",
       "    </tr>\n",
       "    <tr>\n",
       "      <th>163</th>\n",
       "      <td>THE PLAYERS Championship</td>\n",
       "      <td>2015</td>\n",
       "      <td>top-50</td>\n",
       "      <td>(2.273,0.033,0.407)</td>\n",
       "    </tr>\n",
       "    <tr>\n",
       "      <th>201</th>\n",
       "      <td>THE PLAYERS Championship</td>\n",
       "      <td>2014</td>\n",
       "      <td>top-50</td>\n",
       "      <td>(1.567,0.047,0.407)</td>\n",
       "    </tr>\n",
       "  </tbody>\n",
       "</table>\n",
       "</div>"
      ],
      "text/plain": [
       "                         name  year      tag                alpha\n",
       "1    THE PLAYERS Championship  2014  top-200  (1.867,0.065,0.354)\n",
       "42   THE PLAYERS Championship  2015  top-200   (2.26,0.039,0.273)\n",
       "83   THE PLAYERS Championship  2016  top-200  (2.007,0.049,0.311)\n",
       "123  THE PLAYERS Championship  2016   top-50  (1.791,0.041,0.417)\n",
       "163  THE PLAYERS Championship  2015   top-50  (2.273,0.033,0.407)\n",
       "201  THE PLAYERS Championship  2014   top-50  (1.567,0.047,0.407)"
      ]
     },
     "execution_count": 43,
     "metadata": {},
     "output_type": "execute_result"
    }
   ],
   "source": [
    "t_df[t_df['name'] == 'THE PLAYERS Championship']"
   ]
  },
  {
   "cell_type": "code",
   "execution_count": null,
   "metadata": {
    "collapsed": true,
    "deletable": true,
    "editable": true
   },
   "outputs": [],
   "source": []
  }
 ],
 "metadata": {
  "kernelspec": {
   "display_name": "Python 2",
   "language": "python",
   "name": "python2"
  },
  "language_info": {
   "codemirror_mode": {
    "name": "ipython",
    "version": 2
   },
   "file_extension": ".py",
   "mimetype": "text/x-python",
   "name": "python",
   "nbconvert_exporter": "python",
   "pygments_lexer": "ipython2",
   "version": "2.7.13"
  }
 },
 "nbformat": 4,
 "nbformat_minor": 2
}
