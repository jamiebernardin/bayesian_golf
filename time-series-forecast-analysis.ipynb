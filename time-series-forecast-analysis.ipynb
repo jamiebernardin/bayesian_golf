{
 "cells": [
  {
   "cell_type": "code",
   "execution_count": 2,
   "metadata": {
    "collapsed": false,
    "deletable": true,
    "editable": true
   },
   "outputs": [
    {
     "data": {
      "text/html": [
       "<button onclick=\"jQuery('.input_area').toggle(); jQuery('.prompt').toggle();\">Toggle code</button>"
      ]
     },
     "metadata": {},
     "output_type": "display_data"
    }
   ],
   "source": [
    "import util\n",
    "import pandas as pd\n",
    "import numpy as np\n",
    "import matplotlib.pyplot as plt\n",
    "%precision 4\n",
    "%matplotlib inline\n",
    "util.scale_plot_size(1.5)\n",
    "import ipywidgets as widgets\n",
    "from ipywidgets import interact\n",
    "from IPython.display import display\n",
    "import IPython.core.display as di\n",
    "di.display_html('''<button onclick=\"jQuery('.input_area').toggle(); jQuery('.prompt').toggle();\">Toggle code</button>''', raw=True)"
   ]
  },
  {
   "cell_type": "code",
   "execution_count": null,
   "metadata": {
    "collapsed": false,
    "deletable": true,
    "editable": true
   },
   "outputs": [],
   "source": []
  },
  {
   "cell_type": "code",
   "execution_count": 11,
   "metadata": {
    "collapsed": false,
    "deletable": true,
    "editable": true
   },
   "outputs": [],
   "source": [
    "w_forcast = widgets.Dropdown(options=['select player'] + get_players(), value='select player', description='forecast:',disabled=False)\n",
    "w_forcast.observe(plot_forecast, 'value')\n",
    "display(w_forcast)"
   ]
  },
  {
   "cell_type": "code",
   "execution_count": 12,
   "metadata": {
    "collapsed": false,
    "deletable": true,
    "editable": true
   },
   "outputs": [
    {
     "name": "stdout",
     "output_type": "stream",
     "text": [
      "0.512 and 0.955 of all predictions are within 50% and 95% intervals\n",
      "3.16658385347\n"
     ]
    },
    {
     "data": {
      "image/png": "[encoded data removed]",
      "text/plain": [
       "<matplotlib.figure.Figure at 0x10a24dcd0>"
      ]
     },
     "metadata": {},
     "output_type": "display_data"
    }
   ],
   "source": [
    "print calc_50_conf(), 'and', calc_95_conf(), 'of all predictions are within 50% and 95% intervals'\n",
    "plot_prediction_accuracy()"
   ]
  },
  {
   "cell_type": "code",
   "execution_count": 5,
   "metadata": {
    "collapsed": true,
    "deletable": true,
    "editable": true
   },
   "outputs": [],
   "source": [
    "def plot_prediction_accuracy():\n",
    "    sql_txt = '''\n",
    "    select ((p.score).mean - s.score) as error from scores s, stan_prediction p\n",
    "        where s.year = p.year\n",
    "        and s.player_id = p.player_id\n",
    "        and s.permanent_tournament_id = p.permanent_tournament_id\n",
    "        and p.tag = '30-50'\n",
    "        and s.round = p.round\n",
    "    '''\n",
    "    series = util.pd_from_sql(sql_txt)['error']\n",
    "    plt.hist(series.as_matrix().tolist(), 50, facecolor='green', alpha=0.75)\n",
    "    foo = plt.title('Prediction Accuracy - 2016')"
   ]
  },
  {
   "cell_type": "code",
   "execution_count": 6,
   "metadata": {
    "collapsed": false,
    "deletable": true,
    "editable": true
   },
   "outputs": [],
   "source": [
    "def plot_forecast(name):\n",
    "    if type(name) is not str:\n",
    "        name = name['new']   \n",
    "    player_df = get_player_scores(name)\n",
    "    min_score, max_score = player_df['score'].min(), player_df['score'].max()\n",
    "    plt.gcf().clear()\n",
    "    plt.plot(range(0, len(player_df)), player_df['score'], label=\"actual\")\n",
    "    plt.errorbar(range(0, len(player_df)), player_df['mean'], player_df['sd'], label='predicted')\n",
    "    y_bottom, _ = plt.gca().get_ylim()\n",
    "    plt.gca().set_ylim([y_bottom,max_score+4])\n",
    "    plt.title(name + ' - 2016', loc='center')\n",
    "    plt.legend(loc='upper right')\n",
    "    plt.xlabel('Rounds 31 - ' + str(30 + len(player_df)))"
   ]
  },
  {
   "cell_type": "code",
   "execution_count": 7,
   "metadata": {
    "collapsed": false,
    "deletable": true,
    "editable": true
   },
   "outputs": [],
   "source": [
    "def get_player_scores(name):\n",
    "    sql_txt = '''\n",
    "        select name, date, s.permanent_tournament_id, s.round, (sp.score).mean, (sp.score).sd,  s.score \n",
    "        from players p, stan_prediction sp , scores s\n",
    "        where p.player_id = sp.player_id\n",
    "        and p.player_id = s.player_id\n",
    "        and p.name like %s\n",
    "        and s.permanent_tournament_id = sp.permanent_tournament_id\n",
    "        and s.round = sp.round\n",
    "        and s.year = sp.year\n",
    "        and sp.tag like '30-50' \n",
    "        order by date;\n",
    "        '''\n",
    "    return util.pd_from_sql(sql_txt, [name])"
   ]
  },
  {
   "cell_type": "code",
   "execution_count": 8,
   "metadata": {
    "collapsed": false,
    "deletable": true,
    "editable": true
   },
   "outputs": [],
   "source": [
    "def get_players():\n",
    "    sql_txt = '''\n",
    "        select name \n",
    "        from stats_view\n",
    "        where year = 2016\n",
    "        limit 50;\n",
    "    '''\n",
    "    return util.pd_from_sql(sql_txt)['name'].as_matrix().tolist()"
   ]
  },
  {
   "cell_type": "code",
   "execution_count": 9,
   "metadata": {
    "collapsed": false,
    "deletable": true,
    "editable": true
   },
   "outputs": [],
   "source": [
    "def calc_50_conf():\n",
    "    sql_txt = '''\n",
    "    select count(*) from scores s, stan_prediction p\n",
    "        where s.year = p.year\n",
    "        and s.player_id = p.player_id\n",
    "        and s.permanent_tournament_id = p.permanent_tournament_id\n",
    "        and p.tag = '30-50'\n",
    "        and s.round = p.round\n",
    "        and s.score > (p.score).p_25\n",
    "        and s.score < (p.score).p_75;\n",
    "    '''\n",
    "    success = util.exec_sql(sql_txt, True)[0][0]\n",
    "    sql_txt = '''\n",
    "    select count(*) from stan_prediction \n",
    "        where tag = '30-50'\n",
    "    '''\n",
    "    total = util.exec_sql(sql_txt, True)[0][0]\n",
    "    return round(success/float(total), 3)"
   ]
  },
  {
   "cell_type": "code",
   "execution_count": 10,
   "metadata": {
    "collapsed": true,
    "deletable": true,
    "editable": true
   },
   "outputs": [],
   "source": [
    "def calc_95_conf():\n",
    "    sql_txt = '''\n",
    "        select count(*) from scores s, stan_prediction p\n",
    "        where s.year = p.year\n",
    "        and s.player_id = p.player_id\n",
    "        and s.permanent_tournament_id = p.permanent_tournament_id\n",
    "        and p.tag = '30-50'\n",
    "        and s.round = p.round\n",
    "        and s.score > (p.score).p_025\n",
    "        and s.score < (p.score).p_975;\n",
    "    '''\n",
    "    success = util.exec_sql(sql_txt, True)[0][0]\n",
    "    sql_txt = '''\n",
    "    select count(*) from stan_prediction \n",
    "        where tag = '30-50'\n",
    "    '''\n",
    "    total = util.exec_sql(sql_txt, True)[0][0]\n",
    "    return round(success/float(total), 3)"
   ]
  }
 ],
 "metadata": {
  "kernelspec": {
   "display_name": "Python 2",
   "language": "python",
   "name": "python2"
  },
  "language_info": {
   "codemirror_mode": {
    "name": "ipython",
    "version": 2
   },
   "file_extension": ".py",
   "mimetype": "text/x-python",
   "name": "python",
   "nbconvert_exporter": "python",
   "pygments_lexer": "ipython2",
   "version": "2.7.13"
  },
  "widgets": {
   "state": {
    "454f3edd2e0342b9a73ce7f197242966": {
     "views": [
      {
       "cell_index": 2
      }
     ]
    }
   },
   "version": "1.2.0"
  }
 },
 "nbformat": 4,
 "nbformat_minor": 2
}
