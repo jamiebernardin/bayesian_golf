{
 "cells": [
  {
   "cell_type": "code",
   "execution_count": 75,
   "metadata": {
    "collapsed": true
   },
   "outputs": [],
   "source": [
    "import psycopg2 as pq\n",
    "import matplotlib.pyplot as plt\n",
    "%matplotlib inline\n",
    "import numpy as np\n",
    "from datetime import datetime\n",
    "from itertools import chain"
   ]
  },
  {
   "cell_type": "code",
   "execution_count": 202,
   "metadata": {
    "collapsed": false
   },
   "outputs": [],
   "source": []
  },
  {
   "cell_type": "code",
   "execution_count": 219,
   "metadata": {
    "collapsed": false
   },
   "outputs": [],
   "source": [
    "with pq.connect('postgresql://localhost:5432/golf') as conn:\n",
    "    with conn.cursor() as cursor:\n",
    "        sqlTxt = '''\n",
    "        select    year, date, player_id, tourn_id, round,  count(shot) as score\n",
    "          from    strokes \n",
    "          where   player_id = '28237'\n",
    "            and   year = 2016\n",
    "          group by year, date, player_id, tourn_id, round\n",
    "          order by date, tourn_id, round\n",
    "        '''\n",
    "        cursor.execute(sqlTxt)\n",
    "        rounds = np.empty((1, 6))\n",
    "        for row in cursor:\n",
    "            rounds = np.vstack((rounds, np.asarray(row).reshape((1,6))))\n",
    "        rounds = rounds[1:,2:]\n",
    "                  "
   ]
  },
  {
   "cell_type": "code",
   "execution_count": 222,
   "metadata": {
    "collapsed": false
   },
   "outputs": [
    {
     "data": {
      "text/plain": [
       "array([[28237L, 10L, 1L, 68L],\n",
       "       [28237L, 10L, 2L, 72L],\n",
       "       [28237L, 10L, 3L, 71L],\n",
       "       [28237L, 10L, 4L, 69L],\n",
       "       [28237L, 160L, 1L, 67L],\n",
       "       [28237L, 160L, 2L, 69L],\n",
       "       [28237L, 160L, 3L, 68L],\n",
       "       [28237L, 160L, 4L, 75L],\n",
       "       [28237L, 170L, 1L, 72L],\n",
       "       [28237L, 170L, 2L, 75L],\n",
       "       [28237L, 180L, 1L, 71L],\n",
       "       [28237L, 180L, 2L, 65L],\n",
       "       [28237L, 180L, 3L, 68L],\n",
       "       [28237L, 180L, 4L, 75L],\n",
       "       [28237L, 200L, 1L, 78L],\n",
       "       [28237L, 200L, 2L, 67L],\n",
       "       [28237L, 200L, 3L, 78L],\n",
       "       [28237L, 200L, 4L, 65L],\n",
       "       [28237L, 220L, 1L, 74L],\n",
       "       [28237L, 220L, 2L, 57L],\n",
       "       [28237L, 220L, 3L, 68L],\n",
       "       [28237L, 280L, 1L, 73L],\n",
       "       [28237L, 280L, 2L, 70L],\n",
       "       [28237L, 280L, 3L, 74L],\n",
       "       [28237L, 280L, 4L, 66L],\n",
       "       [28237L, 290L, 1L, 73L],\n",
       "       [28237L, 290L, 2L, 64L],\n",
       "       [28237L, 290L, 3L, 75L],\n",
       "       [28237L, 290L, 4L, 71L],\n",
       "       [28237L, 320L, 1L, 71L],\n",
       "       [28237L, 320L, 2L, 67L],\n",
       "       [28237L, 320L, 3L, 72L],\n",
       "       [28237L, 320L, 4L, 69L],\n",
       "       [28237L, 420L, 1L, 74L],\n",
       "       [28237L, 420L, 2L, 69L],\n",
       "       [28237L, 470L, 1L, 71L],\n",
       "       [28237L, 470L, 2L, 69L],\n",
       "       [28237L, 470L, 3L, 71L],\n",
       "       [28237L, 470L, 4L, 73L],\n",
       "       [28237L, 480L, 1L, 72L],\n",
       "       [28237L, 480L, 2L, 68L],\n",
       "       [28237L, 480L, 3L, 67L],\n",
       "       [28237L, 480L, 4L, 65L],\n",
       "       [28237L, 490L, 1L, 68L],\n",
       "       [28237L, 490L, 2L, 72L],\n",
       "       [28237L, 490L, 3L, 73L],\n",
       "       [28237L, 490L, 4L, 73L],\n",
       "       [28237L, 500L, 1L, 69L],\n",
       "       [28237L, 500L, 2L, 71L],\n",
       "       [28237L, 500L, 3L, 66L],\n",
       "       [28237L, 500L, 4L, 64L]], dtype=object)"
      ]
     },
     "execution_count": 222,
     "metadata": {},
     "output_type": "execute_result"
    }
   ],
   "source": [
    "def combine_rounds(rounds):\n",
    "    def round_equals(row1, row2): \n",
    "        return row1[0] == row2[0] and row1[1] == row2[1] and row1[2] == row2[2]\n",
    "    last = rounds[0]  \n",
    "    result = last\n",
    "    for round in rounds[1:]:\n",
    "        if round_equals(last, round):\n",
    "            round[3] += last[3]\n",
    "        else:\n",
    "            result = np.vstack((result, round))\n",
    "        last = round\n",
    "    return result\n",
    "                           \n",
    "combine_rounds(rounds)"
   ]
  },
  {
   "cell_type": "code",
   "execution_count": null,
   "metadata": {
    "collapsed": true
   },
   "outputs": [],
   "source": []
  },
  {
   "cell_type": "code",
   "execution_count": 201,
   "metadata": {
    "collapsed": false
   },
   "outputs": [
    {
     "data": {
      "text/plain": [
       "array([[28237L, 10L, 1L, 68L],\n",
       "       [28237L, 10L, 2L, 72L],\n",
       "       [28237L, 10L, 3L, 71L],\n",
       "       [28237L, 10L, 4L, 69L],\n",
       "       [28237L, 160L, 1L, 67L],\n",
       "       [28237L, 160L, 2L, 69L],\n",
       "       [28237L, 160L, 3L, 68L],\n",
       "       [28237L, 160L, 4L, 75L],\n",
       "       [28237L, 170L, 1L, 72L],\n",
       "       [28237L, 170L, 2L, 75L],\n",
       "       [28237L, 180L, 1L, 71L],\n",
       "       [28237L, 180L, 2L, 65L],\n",
       "       [28237L, 180L, 3L, 68L],\n",
       "       [28237L, 180L, 4L, 75L],\n",
       "       [28237L, 200L, 1L, 78L],\n",
       "       [28237L, 200L, 2L, 67L],\n",
       "       [28237L, 200L, 3L, 78L],\n",
       "       [28237L, 200L, 4L, 65L],\n",
       "       [28237L, 220L, 1L, 74L],\n",
       "       [28237L, 220L, 2L, 57L],\n",
       "       [28237L, 220L, 3L, 68L],\n",
       "       [28237L, 280L, 1L, 73L],\n",
       "       [28237L, 280L, 2L, 70L],\n",
       "       [28237L, 280L, 3L, 74L],\n",
       "       [28237L, 280L, 4L, 66L],\n",
       "       [28237L, 290L, 1L, 73L],\n",
       "       [28237L, 290L, 2L, 64L],\n",
       "       [28237L, 290L, 3L, 75L],\n",
       "       [28237L, 290L, 4L, 71L],\n",
       "       [28237L, 320L, 1L, 71L],\n",
       "       [28237L, 320L, 2L, 67L],\n",
       "       [28237L, 320L, 3L, 72L],\n",
       "       [28237L, 320L, 4L, 69L],\n",
       "       [28237L, 420L, 1L, 74L],\n",
       "       [28237L, 420L, 2L, 69L],\n",
       "       [28237L, 470L, 1L, 71L],\n",
       "       [28237L, 470L, 2L, 69L],\n",
       "       [28237L, 470L, 3L, 71L],\n",
       "       [28237L, 470L, 4L, 73L],\n",
       "       [28237L, 480L, 1L, 72L],\n",
       "       [28237L, 480L, 2L, 68L],\n",
       "       [28237L, 480L, 3L, 67L],\n",
       "       [28237L, 480L, 4L, 65L],\n",
       "       [28237L, 490L, 1L, 37L],\n",
       "       [28237L, 490L, 1L, 31L],\n",
       "       [28237L, 490L, 2L, 72L],\n",
       "       [28237L, 490L, 3L, 73L],\n",
       "       [28237L, 490L, 4L, 73L],\n",
       "       [28237L, 500L, 1L, 69L],\n",
       "       [28237L, 500L, 2L, 71L],\n",
       "       [28237L, 500L, 3L, 66L],\n",
       "       [28237L, 500L, 4L, 64L]], dtype=object)"
      ]
     },
     "execution_count": 201,
     "metadata": {},
     "output_type": "execute_result"
    }
   ],
   "source": [
    "rounds"
   ]
  },
  {
   "cell_type": "code",
   "execution_count": null,
   "metadata": {
    "collapsed": true
   },
   "outputs": [],
   "source": []
  },
  {
   "cell_type": "code",
   "execution_count": 97,
   "metadata": {
    "collapsed": false
   },
   "outputs": [
    {
     "data": {
      "text/plain": [
       "array([0, 1])"
      ]
     },
     "execution_count": 97,
     "metadata": {},
     "output_type": "execute_result"
    }
   ],
   "source": [
    "np.asarray((0,1))"
   ]
  },
  {
   "cell_type": "code",
   "execution_count": 32,
   "metadata": {
    "collapsed": false
   },
   "outputs": [
    {
     "data": {
      "text/plain": [
       "[(28237L, datetime.datetime(2014, 2, 27, 0, 0), 734L, 1L, 63L),\n",
       " (28237L, datetime.datetime(2014, 2, 28, 0, 0), 734L, 2L, 66L),\n",
       " (28237L, datetime.datetime(2014, 3, 1, 0, 0), 734L, 3L, 70L),\n",
       " (28237L, datetime.datetime(2014, 3, 2, 0, 0), 734L, 4L, 76L),\n",
       " (28237L, datetime.datetime(2014, 3, 6, 0, 0), 8L, 1L, 57L),\n",
       " (28237L, datetime.datetime(2014, 3, 7, 0, 0), 8L, 1L, 14L),\n",
       " (28237L, datetime.datetime(2014, 3, 7, 0, 0), 8L, 2L, 76L),\n",
       " (28237L, datetime.datetime(2014, 3, 8, 0, 0), 8L, 3L, 76L),\n",
       " (28237L, datetime.datetime(2014, 3, 9, 0, 0), 8L, 4L, 75L),\n",
       " (28237L, datetime.datetime(2014, 4, 3, 0, 0), 729L, 1L, 71L),\n",
       " (28237L, datetime.datetime(2014, 4, 4, 0, 0), 729L, 2L, 72L),\n",
       " (28237L, datetime.datetime(2014, 4, 5, 0, 0), 729L, 3L, 76L),\n",
       " (28237L, datetime.datetime(2014, 4, 6, 0, 0), 729L, 4L, 65L),\n",
       " (28237L, datetime.datetime(2014, 5, 1, 0, 0), 698L, 1L, 69L),\n",
       " (28237L, datetime.datetime(2014, 5, 2, 0, 0), 698L, 2L, 78L),\n",
       " (28237L, datetime.datetime(2014, 5, 3, 0, 0), 698L, 3L, 65L),\n",
       " (28237L, datetime.datetime(2014, 5, 4, 0, 0), 698L, 4L, 70L),\n",
       " (28237L, datetime.datetime(2014, 5, 8, 0, 0), 11L, 1L, 70L),\n",
       " (28237L, datetime.datetime(2014, 5, 9, 0, 0), 11L, 2L, 74L),\n",
       " (28237L, datetime.datetime(2014, 5, 10, 0, 0), 11L, 3L, 70L),\n",
       " (28237L, datetime.datetime(2014, 5, 11, 0, 0), 11L, 4L, 66L),\n",
       " (28237L, datetime.datetime(2014, 5, 29, 0, 0), 23L, 1L, 63L),\n",
       " (28237L, datetime.datetime(2014, 5, 30, 0, 0), 23L, 2L, 79L),\n",
       " (28237L, datetime.datetime(2014, 5, 31, 0, 0), 23L, 3L, 69L),\n",
       " (28237L, datetime.datetime(2014, 6, 1, 0, 0), 23L, 4L, 72L),\n",
       " (28237L, datetime.datetime(2014, 7, 31, 0, 0), 36L, 1L, 69L),\n",
       " (28237L, datetime.datetime(2014, 8, 1, 0, 0), 36L, 2L, 65L),\n",
       " (28237L, datetime.datetime(2014, 8, 2, 0, 0), 36L, 3L, 66L),\n",
       " (28237L, datetime.datetime(2014, 8, 3, 0, 0), 36L, 4L, 66L),\n",
       " (28237L, datetime.datetime(2014, 8, 7, 0, 0), 671L, 1L, 66L),\n",
       " (28237L, datetime.datetime(2014, 8, 8, 0, 0), 671L, 2L, 67L),\n",
       " (28237L, datetime.datetime(2014, 8, 9, 0, 0), 671L, 3L, 68L),\n",
       " (28237L, datetime.datetime(2014, 8, 10, 0, 0), 671L, 4L, 68L),\n",
       " (28237L, datetime.datetime(2014, 8, 21, 0, 0), 745L, 1L, 74L),\n",
       " (28237L, datetime.datetime(2014, 8, 22, 0, 0), 745L, 2L, 65L),\n",
       " (28237L, datetime.datetime(2014, 8, 23, 0, 0), 745L, 3L, 70L),\n",
       " (28237L, datetime.datetime(2014, 8, 24, 0, 0), 745L, 4L, 70L),\n",
       " (28237L, datetime.datetime(2014, 8, 29, 0, 0), 700L, 1L, 70L),\n",
       " (28237L, datetime.datetime(2014, 8, 30, 0, 0), 700L, 2L, 69L),\n",
       " (28237L, datetime.datetime(2014, 8, 31, 0, 0), 700L, 3L, 64L),\n",
       " (28237L, datetime.datetime(2014, 9, 1, 0, 0), 700L, 4L, 70L),\n",
       " (28237L, datetime.datetime(2014, 9, 4, 0, 0), 505L, 1L, 67L),\n",
       " (28237L, datetime.datetime(2014, 9, 5, 0, 0), 505L, 2L, 67L),\n",
       " (28237L, datetime.datetime(2014, 9, 6, 0, 0), 505L, 3L, 72L),\n",
       " (28237L, datetime.datetime(2014, 9, 7, 0, 0), 505L, 4L, 66L),\n",
       " (28237L, datetime.datetime(2014, 9, 11, 0, 0), 688L, 1L, 69L),\n",
       " (28237L, datetime.datetime(2014, 9, 12, 0, 0), 688L, 2L, 65L),\n",
       " (28237L, datetime.datetime(2014, 9, 13, 0, 0), 688L, 3L, 67L),\n",
       " (28237L, datetime.datetime(2014, 9, 14, 0, 0), 688L, 4L, 73L),\n",
       " (28237L, datetime.datetime(2015, 2, 26, 0, 0), 734L, 1L, 74L),\n",
       " (28237L, datetime.datetime(2015, 2, 27, 0, 0), 734L, 2L, 75L),\n",
       " (28237L, datetime.datetime(2015, 3, 5, 0, 0), 8L, 1L, 75L),\n",
       " (28237L, datetime.datetime(2015, 3, 6, 0, 0), 8L, 2L, 72L),\n",
       " (28237L, datetime.datetime(2015, 3, 7, 0, 0), 8L, 3L, 73L),\n",
       " (28237L, datetime.datetime(2015, 3, 8, 0, 0), 8L, 4L, 74L),\n",
       " (28237L, datetime.datetime(2015, 3, 19, 0, 0), 9L, 1L, 71L),\n",
       " (28237L, datetime.datetime(2015, 3, 20, 0, 0), 9L, 2L, 66L),\n",
       " (28237L, datetime.datetime(2015, 3, 21, 0, 0), 9L, 3L, 71L),\n",
       " (28237L, datetime.datetime(2015, 3, 22, 0, 0), 9L, 4L, 71L),\n",
       " (28237L, datetime.datetime(2015, 4, 29, 0, 0), 717L, 1L, 54L),\n",
       " (28237L, datetime.datetime(2015, 4, 30, 0, 0), 717L, 2L, 67L),\n",
       " (28237L, datetime.datetime(2015, 5, 1, 0, 0), 717L, 3L, 76L),\n",
       " (28237L, datetime.datetime(2015, 5, 7, 0, 0), 11L, 1L, 69L),\n",
       " (28237L, datetime.datetime(2015, 5, 8, 0, 0), 11L, 2L, 72L),\n",
       " (28237L, datetime.datetime(2015, 5, 9, 0, 0), 11L, 3L, 70L),\n",
       " (28237L, datetime.datetime(2015, 5, 10, 0, 0), 11L, 4L, 70L),\n",
       " (28237L, datetime.datetime(2015, 5, 14, 0, 0), 698L, 1L, 71L),\n",
       " (28237L, datetime.datetime(2015, 5, 15, 0, 0), 698L, 2L, 68L),\n",
       " (28237L, datetime.datetime(2015, 5, 16, 0, 0), 698L, 3L, 62L),\n",
       " (28237L, datetime.datetime(2015, 5, 17, 0, 0), 698L, 4L, 70L),\n",
       " (28237L, datetime.datetime(2015, 8, 13, 0, 0), 706L, 1L, 71L),\n",
       " (28237L, datetime.datetime(2015, 8, 14, 0, 0), 706L, 2L, 71L),\n",
       " (28237L, datetime.datetime(2015, 8, 15, 0, 0), 706L, 3L, 68L),\n",
       " (28237L, datetime.datetime(2015, 8, 16, 0, 0), 706L, 4L, 69L),\n",
       " (28237L, datetime.datetime(2015, 9, 4, 0, 0), 700L, 1L, 70L),\n",
       " (28237L, datetime.datetime(2015, 9, 5, 0, 0), 700L, 2L, 75L),\n",
       " (28237L, datetime.datetime(2015, 9, 6, 0, 0), 700L, 3L, 71L),\n",
       " (28237L, datetime.datetime(2015, 9, 7, 0, 0), 700L, 4L, 66L),\n",
       " (28237L, datetime.datetime(2015, 9, 17, 0, 0), 789L, 1L, 46L),\n",
       " (28237L, datetime.datetime(2015, 9, 18, 0, 0), 789L, 2L, 66L),\n",
       " (28237L, datetime.datetime(2015, 9, 18, 0, 0), 789L, 1L, 22L),\n",
       " (28237L, datetime.datetime(2015, 9, 19, 0, 0), 789L, 3L, 68L),\n",
       " (28237L, datetime.datetime(2015, 9, 20, 0, 0), 789L, 4L, 72L),\n",
       " (28237L, datetime.datetime(2015, 9, 24, 0, 0), 688L, 1L, 66L),\n",
       " (28237L, datetime.datetime(2015, 9, 25, 0, 0), 688L, 2L, 71L),\n",
       " (28237L, datetime.datetime(2015, 9, 26, 0, 0), 688L, 3L, 70L),\n",
       " (28237L, datetime.datetime(2015, 9, 27, 0, 0), 688L, 4L, 75L),\n",
       " (28237L, datetime.datetime(2015, 10, 15, 0, 0), 552L, 1L, 68L),\n",
       " (28237L, datetime.datetime(2015, 10, 16, 0, 0), 552L, 2L, 72L),\n",
       " (28237L, datetime.datetime(2015, 10, 17, 0, 0), 552L, 3L, 71L),\n",
       " (28237L, datetime.datetime(2015, 10, 18, 0, 0), 552L, 4L, 69L),\n",
       " (28237L, datetime.datetime(2016, 2, 18, 0, 0), 500L, 1L, 67L),\n",
       " (28237L, datetime.datetime(2016, 2, 19, 0, 0), 500L, 2L, 69L),\n",
       " (28237L, datetime.datetime(2016, 2, 20, 0, 0), 500L, 3L, 68L),\n",
       " (28237L, datetime.datetime(2016, 2, 21, 0, 0), 500L, 4L, 75L),\n",
       " (28237L, datetime.datetime(2016, 2, 25, 0, 0), 734L, 1L, 72L),\n",
       " (28237L, datetime.datetime(2016, 2, 26, 0, 0), 734L, 2L, 75L),\n",
       " (28237L, datetime.datetime(2016, 3, 3, 0, 0), 8L, 1L, 71L),\n",
       " (28237L, datetime.datetime(2016, 3, 4, 0, 0), 8L, 2L, 65L),\n",
       " (28237L, datetime.datetime(2016, 3, 5, 0, 0), 8L, 3L, 68L),\n",
       " (28237L, datetime.datetime(2016, 3, 6, 0, 0), 8L, 4L, 75L),\n",
       " (28237L, datetime.datetime(2016, 3, 17, 0, 0), 9L, 1L, 78L),\n",
       " (28237L, datetime.datetime(2016, 3, 18, 0, 0), 9L, 2L, 67L),\n",
       " (28237L, datetime.datetime(2016, 3, 19, 0, 0), 9L, 3L, 78L),\n",
       " (28237L, datetime.datetime(2016, 3, 20, 0, 0), 9L, 4L, 65L),\n",
       " (28237L, datetime.datetime(2016, 3, 23, 0, 0), 185L, 1L, 74L),\n",
       " (28237L, datetime.datetime(2016, 3, 24, 0, 0), 185L, 2L, 57L),\n",
       " (28237L, datetime.datetime(2016, 3, 25, 0, 0), 185L, 3L, 68L),\n",
       " (28237L, datetime.datetime(2016, 5, 5, 0, 0), 698L, 1L, 73L),\n",
       " (28237L, datetime.datetime(2016, 5, 6, 0, 0), 698L, 2L, 70L),\n",
       " (28237L, datetime.datetime(2016, 5, 7, 0, 0), 698L, 3L, 74L),\n",
       " (28237L, datetime.datetime(2016, 5, 8, 0, 0), 698L, 4L, 66L),\n",
       " (28237L, datetime.datetime(2016, 5, 12, 0, 0), 11L, 1L, 73L),\n",
       " (28237L, datetime.datetime(2016, 5, 13, 0, 0), 11L, 2L, 64L),\n",
       " (28237L, datetime.datetime(2016, 5, 14, 0, 0), 11L, 3L, 75L),\n",
       " (28237L, datetime.datetime(2016, 5, 15, 0, 0), 11L, 4L, 71L),\n",
       " (28237L, datetime.datetime(2016, 6, 2, 0, 0), 23L, 1L, 71L),\n",
       " (28237L, datetime.datetime(2016, 6, 3, 0, 0), 23L, 2L, 67L),\n",
       " (28237L, datetime.datetime(2016, 6, 4, 0, 0), 23L, 3L, 72L),\n",
       " (28237L, datetime.datetime(2016, 6, 5, 0, 0), 23L, 4L, 69L),\n",
       " (28237L, datetime.datetime(2016, 7, 28, 0, 0), 715L, 1L, 74L),\n",
       " (28237L, datetime.datetime(2016, 7, 29, 0, 0), 715L, 2L, 69L),\n",
       " (28237L, datetime.datetime(2016, 8, 25, 0, 0), 689L, 1L, 71L),\n",
       " (28237L, datetime.datetime(2016, 8, 26, 0, 0), 689L, 2L, 69L),\n",
       " (28237L, datetime.datetime(2016, 8, 27, 0, 0), 689L, 3L, 71L),\n",
       " (28237L, datetime.datetime(2016, 8, 28, 0, 0), 689L, 4L, 73L),\n",
       " (28237L, datetime.datetime(2016, 9, 2, 0, 0), 700L, 1L, 72L),\n",
       " (28237L, datetime.datetime(2016, 9, 3, 0, 0), 700L, 2L, 68L),\n",
       " (28237L, datetime.datetime(2016, 9, 4, 0, 0), 700L, 3L, 67L),\n",
       " (28237L, datetime.datetime(2016, 9, 5, 0, 0), 700L, 4L, 65L),\n",
       " (28237L, datetime.datetime(2016, 9, 8, 0, 0), 527L, 1L, 37L),\n",
       " (28237L, datetime.datetime(2016, 9, 9, 0, 0), 527L, 1L, 31L),\n",
       " (28237L, datetime.datetime(2016, 9, 9, 0, 0), 527L, 2L, 72L),\n",
       " (28237L, datetime.datetime(2016, 9, 10, 0, 0), 527L, 3L, 73L),\n",
       " (28237L, datetime.datetime(2016, 9, 11, 0, 0), 527L, 4L, 73L),\n",
       " (28237L, datetime.datetime(2016, 9, 22, 0, 0), 688L, 1L, 69L),\n",
       " (28237L, datetime.datetime(2016, 9, 23, 0, 0), 688L, 2L, 71L),\n",
       " (28237L, datetime.datetime(2016, 9, 24, 0, 0), 688L, 3L, 66L),\n",
       " (28237L, datetime.datetime(2016, 9, 25, 0, 0), 688L, 4L, 64L)]"
      ]
     },
     "execution_count": 32,
     "metadata": {},
     "output_type": "execute_result"
    }
   ],
   "source": [
    "\n"
   ]
  },
  {
   "cell_type": "code",
   "execution_count": 36,
   "metadata": {
    "collapsed": true
   },
   "outputs": [],
   "source": [
    "conn.close()"
   ]
  }
 ],
 "metadata": {
  "kernelspec": {
   "display_name": "Python 2",
   "language": "python",
   "name": "python2"
  },
  "language_info": {
   "codemirror_mode": {
    "name": "ipython",
    "version": 2
   },
   "file_extension": ".py",
   "mimetype": "text/x-python",
   "name": "python",
   "nbconvert_exporter": "python",
   "pygments_lexer": "ipython2",
   "version": "2.7.13"
  }
 },
 "nbformat": 4,
 "nbformat_minor": 2
}
