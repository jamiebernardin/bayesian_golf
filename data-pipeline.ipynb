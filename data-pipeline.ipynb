{
 "cells": [
  {
   "cell_type": "code",
   "execution_count": 3,
   "metadata": {
    "collapsed": false,
    "deletable": true,
    "editable": true
   },
   "outputs": [],
   "source": [
    "import util\n",
    "%precision 4\n",
    "%matplotlib inline\n"
   ]
  },
  {
   "cell_type": "code",
   "execution_count": 3,
   "metadata": {
    "collapsed": false,
    "deletable": true,
    "editable": true
   },
   "outputs": [],
   "source": []
  },
  {
   "cell_type": "code",
   "execution_count": 64,
   "metadata": {
    "collapsed": true,
    "deletable": true,
    "editable": true
   },
   "outputs": [],
   "source": [
    "def convert(c):\n",
    "    return c.lower().replace(' ', '_').replace('/', '_').replace('.', '_').replace('#', 'id').replace('(', '_').replace(')', '').replace('id_of', 'num_of')"
   ]
  },
  {
   "cell_type": "code",
   "execution_count": 83,
   "metadata": {
    "collapsed": false,
    "deletable": true,
    "editable": true
   },
   "outputs": [],
   "source": []
  },
  {
   "cell_type": "code",
   "execution_count": 63,
   "metadata": {
    "collapsed": true,
    "deletable": true,
    "editable": true
   },
   "outputs": [],
   "source": [
    "files = ['data/rshot-2014.txt', 'data/rshot-2015.txt', 'data/rshot-2016.txt']"
   ]
  },
  {
   "cell_type": "code",
   "execution_count": 67,
   "metadata": {
    "collapsed": false,
    "deletable": true,
    "editable": true
   },
   "outputs": [
    {
     "name": "stdout",
     "output_type": "stream",
     "text": [
      "reading data/rshot-2014.txt\n",
      "converting date file\n",
      "writing to sql\n",
      "reading data/rshot-2015.txt\n",
      "converting date file\n",
      "writing to sql\n",
      "reading data/rshot-2016.txt\n",
      "converting date file\n",
      "writing to sql\n"
     ]
    }
   ],
   "source": [
    "for f in files:\n",
    "    print 'reading ' + f\n",
    "    df = pd.read_csv(filepath_or_buffer=f, sep=';', skipinitialspace=True)\n",
    "    print 'converting date file'\n",
    "    df.columns = [convert(col) for col in df.columns]\n",
    "    df['date'] = pd.to_datetime(df['date'])\n",
    "    print 'writing to sql'\n",
    "    df.to_sql(name= 'strokes', con= golf_engine, if_exists= 'append')"
   ]
  },
  {
   "cell_type": "code",
   "execution_count": null,
   "metadata": {
    "collapsed": false,
    "deletable": true,
    "editable": true
   },
   "outputs": [],
   "source": []
  },
  {
   "cell_type": "code",
   "execution_count": 88,
   "metadata": {
    "collapsed": false,
    "deletable": true,
    "editable": true
   },
   "outputs": [],
   "source": [
    "sqlTxt = '''\n",
    "DROP TABLE IF EXISTS players CASCADE;\n",
    "CREATE TABLE players (\n",
    "     player_id    integer PRIMARY KEY,\n",
    "     name   varchar(40) NOT NULL CHECK (name <> '')\n",
    ");\n",
    "'''\n",
    "exec_sql(sqlTxt)"
   ]
  },
  {
   "cell_type": "code",
   "execution_count": 89,
   "metadata": {
    "collapsed": false,
    "deletable": true,
    "editable": true
   },
   "outputs": [],
   "source": [
    "sqlTxt = '''\n",
    "insert into players (player_id, name) \n",
    "select distinct player_id, player_first_name || ' ' ||  player_last_name from strokes\n",
    "'''\n",
    "exec_sql(sqlTxt)"
   ]
  },
  {
   "cell_type": "code",
   "execution_count": 105,
   "metadata": {
    "collapsed": false,
    "deletable": true,
    "editable": true
   },
   "outputs": [],
   "source": [
    "sqlTxt = '''\n",
    "CREATE TABLE courses (\n",
    "     year        integer,\n",
    "     course_id    integer,\n",
    "     name   varchar(40) NOT NULL CHECK (name <> ''),\n",
    "     primary key (year, course_id) \n",
    ");\n",
    "'''\n",
    "exec_sql(sqlTxt)"
   ]
  },
  {
   "cell_type": "code",
   "execution_count": 106,
   "metadata": {
    "collapsed": false,
    "deletable": true,
    "editable": true
   },
   "outputs": [],
   "source": [
    "sqlTxt = '''\n",
    "insert into courses\n",
    "select distinct year, course_id, course_name from strokes\n",
    "'''\n",
    "exec_sql(sqlTxt)"
   ]
  },
  {
   "cell_type": "code",
   "execution_count": 115,
   "metadata": {
    "collapsed": false,
    "deletable": true,
    "editable": true
   },
   "outputs": [],
   "source": [
    "sqlTxt = '''\n",
    "CREATE TABLE tournaments (\n",
    "     year        integer,\n",
    "     permanent_tournament_id    integer,\n",
    "     name   varchar(100) NOT NULL CHECK (name <> ''),\n",
    "     primary key (year, permanent_tournament_id) \n",
    ");\n",
    "'''\n",
    "exec_sql(sqlTxt)"
   ]
  },
  {
   "cell_type": "code",
   "execution_count": 116,
   "metadata": {
    "collapsed": false,
    "deletable": true,
    "editable": true
   },
   "outputs": [],
   "source": [
    "sqlTxt = '''\n",
    "insert into tournaments\n",
    "select distinct year, permanent_tournament_id, tournament_name from strokes\n",
    "'''\n",
    "exec_sql(sqlTxt)"
   ]
  },
  {
   "cell_type": "code",
   "execution_count": 32,
   "metadata": {
    "collapsed": false,
    "deletable": true,
    "editable": true
   },
   "outputs": [],
   "source": [
    "sqlTxt = '''\n",
    "DROP TABLE IF EXISTS scores CASCADE;\n",
    "CREATE TABLE scores (\n",
    "     year        integer,\n",
    "     date        timestamp,\n",
    "     player_id   integer,\n",
    "     permanent_tournament_id    integer,\n",
    "     round       integer,\n",
    "     score       integer,\n",
    "     sg_tee      float,\n",
    "     sg_approach float,\n",
    "     sg_around   float,\n",
    "     sg_putting  float,\n",
    "     primary key (year, date, player_id, permanent_tournament_id, round) \n",
    ");\n",
    "\n",
    "CREATE VIEW scores_view AS\n",
    "  select * from scores\n",
    "  order by year, player_id, permanent_tournament_id, date, round;\n",
    "'''\n",
    "exec_sql(sqlTxt)"
   ]
  },
  {
   "cell_type": "code",
   "execution_count": 33,
   "metadata": {
    "collapsed": false,
    "deletable": true,
    "editable": true
   },
   "outputs": [],
   "source": [
    "sqlTxt = '''\n",
    "insert into scores\n",
    "select    year, date, player_id, permanent_tournament_id, round,  count(shot)\n",
    "  from    strokes \n",
    "    group by year, date, player_id, permanent_tournament_id, round\n",
    "    order by year, player_id, permanent_tournament_id, date, round\n",
    "'''\n",
    "exec_sql(sqlTxt)"
   ]
  },
  {
   "cell_type": "code",
   "execution_count": null,
   "metadata": {
    "collapsed": true,
    "deletable": true,
    "editable": true
   },
   "outputs": [],
   "source": []
  },
  {
   "cell_type": "code",
   "execution_count": 37,
   "metadata": {
    "collapsed": false,
    "deletable": true,
    "editable": true
   },
   "outputs": [],
   "source": [
    "sqlTxt = '''\n",
    "CREATE OR REPLACE FUNCTION combine_rounds()\n",
    "   RETURNS integer AS $$\n",
    "DECLARE \n",
    " num_recs integer = 0;\n",
    " first boolean = TRUE;\n",
    " score_rec   RECORD;\n",
    " prev_score_rec RECORD;\n",
    " scores_cur CURSOR \n",
    " FOR SELECT *\n",
    " FROM scores_view;\n",
    "BEGIN\n",
    "   -- Open the cursor\n",
    "   OPEN scores_cur;\n",
    " \n",
    "   LOOP\n",
    "    -- fetch row into the film\n",
    "      FETCH scores_cur INTO score_rec;\n",
    "    -- exit when no more row to fetch\n",
    "      EXIT WHEN NOT FOUND;\n",
    " \n",
    "    -- process\n",
    "      IF NOT first THEN \n",
    "        IF    score_rec.round = prev_score_rec.round \n",
    "          AND score_rec.player_id = prev_score_rec.player_id\n",
    "          AND score_rec.permanent_tournament_id = prev_score_rec.permanent_tournament_id\n",
    "          AND score_rec.year = prev_score_rec.year\n",
    "          THEN \n",
    "            UPDATE scores SET score = score + prev_score_rec.score \n",
    "              WHERE year = score_rec.year\n",
    "              AND   player_id = score_rec.player_id\n",
    "              AND   date = score_rec.date\n",
    "              AND   permanent_tournament_id = score_rec.permanent_tournament_id\n",
    "              AND   round = score_rec.round;\n",
    "            DELETE from scores \n",
    "              WHERE year = prev_score_rec.year\n",
    "              AND   player_id = prev_score_rec.player_id\n",
    "              AND   date = prev_score_rec.date\n",
    "              AND   permanent_tournament_id = prev_score_rec.permanent_tournament_id\n",
    "              AND   round = prev_score_rec.round;\n",
    "            num_recs := num_recs + 1;\n",
    "          score_rec.score = score_rec.score + prev_score_rec.score;\n",
    "        END IF;\n",
    "      ELSE\n",
    "        first = FALSE;\n",
    "      END IF;\n",
    "      prev_score_rec = score_rec;\n",
    "   END LOOP;\n",
    "  \n",
    "   -- Close the cursor\n",
    "   CLOSE scores_cur;\n",
    " \n",
    "   RETURN num_recs;\n",
    "END; $$\n",
    " \n",
    "LANGUAGE plpgsql;\n",
    "'''\n",
    "exec_sql(sqlTxt)\n",
    "exec_sql('select combine_rounds()')"
   ]
  },
  {
   "cell_type": "code",
   "execution_count": 97,
   "metadata": {
    "collapsed": false,
    "deletable": true,
    "editable": true
   },
   "outputs": [],
   "source": [
    "sqlTxt = '''\n",
    "DROP VIEW IF EXISTS stats_view CASCADE;\n",
    "\n",
    "CREATE VIEW stats_view AS \n",
    "  select s.year, s.player_id, name, avg(score) as avg_score, stddev(score) as std_score, \n",
    "         avg(sg_tee) as avg_sg_tee, avg(sg_approach) as avg_sg_approach, \n",
    "         avg(sg_around) as avg_sg_around, avg(sg_putting) as avg_sg_putting\n",
    "      from scores as s, players p \n",
    "      where s.player_id = p.player_id \n",
    "      group by s.year, name, s.player_id\n",
    "      having count(score) > 25\n",
    "      order by year, avg_score;\n",
    "'''\n",
    "exec_sql(sqlTxt)\n"
   ]
  },
  {
   "cell_type": "code",
   "execution_count": 98,
   "metadata": {
    "collapsed": true,
    "deletable": true,
    "editable": true
   },
   "outputs": [],
   "source": [
    "sqlTxt = '''\n",
    "DROP VIEW IF EXISTS rank_view;\n",
    "\n",
    "CREATE VIEW rank_view AS\n",
    "    select year, player_id, ROW_NUMBER() over (order by avg_score) from stats_view;\n",
    "'''\n",
    "exec_sql(sqlTxt)"
   ]
  },
  {
   "cell_type": "code",
   "execution_count": 38,
   "metadata": {
    "collapsed": true,
    "deletable": true,
    "editable": true
   },
   "outputs": [],
   "source": [
    "#  DELETE ROUNDS WITHOUT 18 holes\n",
    "sqlTxt = '''\n",
    "delete from scores s\n",
    "    where exists (select year, player_id, permanent_tournament_id, round, count(hole) \n",
    "      from (select    distinct year, player_id, permanent_tournament_id, round,  hole\n",
    "          from    strokes) b\n",
    "      where b.year = s.year \n",
    "        and b.player_id = s.player_id\n",
    "        and b.permanent_tournament_id = s.permanent_tournament_id\n",
    "        and b.round = s.round\n",
    "      group by year, player_id, permanent_tournament_id, round\n",
    "      having count(hole) < 18\n",
    ")\n",
    "'''\n",
    "exec_sql(sqlTxt)\n"
   ]
  },
  {
   "cell_type": "code",
   "execution_count": 19,
   "metadata": {
    "collapsed": false,
    "deletable": true,
    "editable": true
   },
   "outputs": [],
   "source": [
    "sqlTxt = '''\n",
    "CREATE OR REPLACE FUNCTION update_strokes_gained(category TEXT, category_field TEXT)\n",
    "   RETURNS integer AS $$\n",
    "DECLARE \n",
    "  num_recs integer = 0;\n",
    "  round_rec   RECORD;\n",
    "  round_cur CURSOR FOR\n",
    "    SELECT year, player_id, permanent_tournament_id, round, sum(strokes_gained_baseline) as sg\n",
    "    FROM strokes\n",
    "    WHERE strokes_gained_category like category\n",
    "    GROUP BY year, player_id, permanent_tournament_id, round;\n",
    "  BEGIN\n",
    "   -- Open the cursor\n",
    "   OPEN round_cur;\n",
    " \n",
    "   LOOP\n",
    "    -- fetch row into the film\n",
    "      FETCH round_cur INTO round_rec;\n",
    "    -- exit when no more row to fetch\n",
    "      EXIT WHEN NOT FOUND;\n",
    " \n",
    "    -- process\n",
    "      EXECUTE 'UPDATE scores \n",
    "        SET ' || category_field || ' = ' || round_rec.sg ||\n",
    "        ' WHERE year = ' || round_rec.year || '\n",
    "          AND player_id = ' || round_rec.player_id || '\n",
    "          AND permanent_tournament_id = ' || round_rec.permanent_tournament_id || '\n",
    "          AND round = ' || round_rec.round || ';';\n",
    "    num_recs = num_recs + 1;\n",
    "   END LOOP;\n",
    "    \n",
    "   -- Close the cursor\n",
    "   CLOSE round_cur;\n",
    " \n",
    "   RETURN num_recs;\n",
    "END; $$\n",
    " \n",
    "LANGUAGE plpgsql;\n",
    "'''\n",
    "util.exec_sql(sqlTxt)\n",
    "util.exec_sql(\"select update_strokes_gained('Off the Tee', 'sg_tee')\")\n",
    "util.exec_sql(\"select update_strokes_gained('Approach to the Green', 'sg_approach')\")\n",
    "util.exec_sql(\"select update_strokes_gained('Around the Green', 'sg_around')\")\n",
    "util.exec_sql(\"select update_strokes_gained('Putting', 'sg_putting')\")"
   ]
  },
  {
   "cell_type": "code",
   "execution_count": 5,
   "metadata": {
    "collapsed": false,
    "deletable": true,
    "editable": true
   },
   "outputs": [],
   "source": [
    "sqlTxt = '''\n",
    "DROP TABLE IF EXISTS stan_players CASCADE;\n",
    "CREATE TABLE stan_players (\n",
    "     player_id     integer,\n",
    "     year          integer,\n",
    "     tau_mean      float,\n",
    "     tau_se        float,\n",
    "     sigma_mean    float,\n",
    "     sigma_se      float,\n",
    "     beta_mean     float,\n",
    "     beta_se       float,\n",
    "     primary key (player_id, year) \n",
    ");\n",
    "'''\n",
    "util.exec_sql(sqlTxt)\n"
   ]
  },
  {
   "cell_type": "code",
   "execution_count": 14,
   "metadata": {
    "collapsed": false
   },
   "outputs": [],
   "source": [
    "sqlTxt = '''\n",
    "DROP TYPE IF EXISTS stat CASCADE;\n",
    "CREATE TYPE stat AS (mean float, se float, sd float);\n",
    "\n",
    "DROP TABLE IF EXISTS stan_tournaments CASCADE;\n",
    "CREATE TABLE stan_tournaments (\n",
    "     permanent_tournament_id     integer,\n",
    "     year          integer,\n",
    "     tag           varchar(50),\n",
    "     alpha         stat,\n",
    "     primary key (permanent_tournament_id, year, tag) \n",
    ");\n",
    "'''\n",
    "util.exec_sql(sqlTxt)"
   ]
  },
  {
   "cell_type": "code",
   "execution_count": 17,
   "metadata": {
    "collapsed": false
   },
   "outputs": [],
   "source": [
    "sqlTxt = '''\n",
    "DROP TABLE IF EXISTS stan_players CASCADE;\n",
    "CREATE TABLE stan_players (\n",
    "     player_id     integer,\n",
    "     year          integer,\n",
    "     tag           varchar(50),\n",
    "     tau           stat,\n",
    "     sigma         stat,\n",
    "     beta          stat,\n",
    "     primary key (player_id, year, tag) \n",
    ");\n",
    "'''\n",
    "util.exec_sql(sqlTxt)"
   ]
  },
  {
   "cell_type": "code",
   "execution_count": 99,
   "metadata": {
    "collapsed": false,
    "deletable": true,
    "editable": true
   },
   "outputs": [
    {
     "data": {
      "image/png": "[encoded data removed]",
      "text/plain": [
       "<matplotlib.figure.Figure at 0x10f332250>"
      ]
     },
     "metadata": {},
     "output_type": "display_data"
    }
   ],
   "source": [
    "sqlTxt = '''\n",
    "select * from stats_view where year = 2014 limit 100;\n",
    "  \n",
    "'''\n",
    "df = pd_from_sql(sqlTxt)\n",
    "foo = plt.errorbar(range(0, len (df)), df['avg_score'], df['std_score'], linestyle='None', marker='^')"
   ]
  },
  {
   "cell_type": "code",
   "execution_count": 224,
   "metadata": {
    "collapsed": false,
    "deletable": true,
    "editable": true
   },
   "outputs": [
    {
     "data": {
      "text/plain": [
       "216"
      ]
     },
     "execution_count": 224,
     "metadata": {},
     "output_type": "execute_result"
    }
   ],
   "source": []
  },
  {
   "cell_type": "code",
   "execution_count": 228,
   "metadata": {
    "collapsed": false,
    "deletable": true,
    "editable": true
   },
   "outputs": [],
   "source": []
  }
 ],
 "metadata": {
  "kernelspec": {
   "display_name": "Python 2",
   "language": "python",
   "name": "python2"
  },
  "language_info": {
   "codemirror_mode": {
    "name": "ipython",
    "version": 2
   },
   "file_extension": ".py",
   "mimetype": "text/x-python",
   "name": "python",
   "nbconvert_exporter": "python",
   "pygments_lexer": "ipython2",
   "version": "2.7.13"
  }
 },
 "nbformat": 4,
 "nbformat_minor": 2
}
