{
 "cells": [
  {
   "cell_type": "code",
   "execution_count": 2,
   "metadata": {
    "collapsed": true,
    "deletable": true,
    "editable": true
   },
   "outputs": [],
   "source": [
    "import os\n",
    "import sys\n",
    "import glob\n",
    "import matplotlib.pyplot as plt\n",
    "import numpy as np\n",
    "import pandas as pd\n",
    "%matplotlib inline\n",
    "%precision 4\n",
    "plt.style.use('ggplot')\n",
    "import pystan\n",
    "import scipy.stats as stats\n",
    "pd.set_option('max_rows', 1000)\n",
    "pd.set_option('max_columns', 50)\n",
    "from sqlalchemy import create_engine\n",
    "import psycopg2 as pq\n",
    "golf_db = 'postgresql://localhost:5432/golf'"
   ]
  },
  {
   "cell_type": "code",
   "execution_count": 3,
   "metadata": {
    "collapsed": false,
    "deletable": true,
    "editable": true
   },
   "outputs": [],
   "source": [
    "def exec_sql(sqlTxt, result=False):  \n",
    "    with pq.connect(golf_db) as conn:\n",
    "        with conn.cursor() as cursor:\n",
    "            cursor.execute(sqlTxt) \n",
    "            if result:\n",
    "                return [row for row in cursor] \n",
    "        \n",
    "def pd_from_sql(sqlTxt):\n",
    "    with pq.connect(golf_db) as conn:\n",
    "        return pd.read_sql_query(sqlTxt, conn)\n",
    "    \n",
    "def np_to_sql(arr, table):\n",
    "    df = pd.DataFrame(arr)\n",
    "    with pq.connect(golf_db) as conn:\n",
    "        df.to_sql(table, conn, if_exists='append')\n",
    "    "
   ]
  },
  {
   "cell_type": "code",
   "execution_count": 64,
   "metadata": {
    "collapsed": true,
    "deletable": true,
    "editable": true
   },
   "outputs": [],
   "source": [
    "def convert(c):\n",
    "    return c.lower().replace(' ', '_').replace('/', '_').replace('.', '_').replace('#', 'id').replace('(', '_').replace(')', '').replace('id_of', 'num_of')"
   ]
  },
  {
   "cell_type": "code",
   "execution_count": 83,
   "metadata": {
    "collapsed": false,
    "deletable": true,
    "editable": true
   },
   "outputs": [],
   "source": [
    "engine = create_engine(golf_db)"
   ]
  },
  {
   "cell_type": "code",
   "execution_count": 63,
   "metadata": {
    "collapsed": true,
    "deletable": true,
    "editable": true
   },
   "outputs": [],
   "source": [
    "files = ['data/rshot-2014.txt', 'data/rshot-2015.txt', 'data/rshot-2016.txt']"
   ]
  },
  {
   "cell_type": "code",
   "execution_count": 67,
   "metadata": {
    "collapsed": false,
    "deletable": true,
    "editable": true
   },
   "outputs": [
    {
     "name": "stdout",
     "output_type": "stream",
     "text": [
      "reading data/rshot-2014.txt\n",
      "converting date file\n",
      "writing to sql\n",
      "reading data/rshot-2015.txt\n",
      "converting date file\n",
      "writing to sql\n",
      "reading data/rshot-2016.txt\n",
      "converting date file\n",
      "writing to sql\n"
     ]
    }
   ],
   "source": [
    "for f in files:\n",
    "    print 'reading ' + f\n",
    "    df = pd.read_csv(filepath_or_buffer=f, sep=';', skipinitialspace=True)\n",
    "    print 'converting date file'\n",
    "    df.columns = [convert(col) for col in df.columns]\n",
    "    df['date'] = pd.to_datetime(df['date'])\n",
    "    print 'writing to sql'\n",
    "    df.to_sql(name= 'strokes', con= engine, if_exists= 'append')"
   ]
  },
  {
   "cell_type": "code",
   "execution_count": null,
   "metadata": {
    "collapsed": false,
    "deletable": true,
    "editable": true
   },
   "outputs": [],
   "source": []
  },
  {
   "cell_type": "code",
   "execution_count": 88,
   "metadata": {
    "collapsed": false,
    "deletable": true,
    "editable": true
   },
   "outputs": [
    {
     "name": "stdout",
     "output_type": "stream",
     "text": [
      "-1\n"
     ]
    }
   ],
   "source": [
    "sqlTxt = '''\n",
    "CREATE TABLE players (\n",
    "     player_id    integer PRIMARY KEY,\n",
    "     first_name   varchar(40) NOT NULL CHECK (first_name <> ''),\n",
    "     last_name   varchar(40) NOT NULL CHECK (last_name <> '')\n",
    ");\n",
    "'''\n",
    "exec_sql(sqlTxt)"
   ]
  },
  {
   "cell_type": "code",
   "execution_count": 97,
   "metadata": {
    "collapsed": false,
    "deletable": true,
    "editable": true
   },
   "outputs": [],
   "source": [
    "sqlTxt = '''\n",
    "insert into players (player_id, first_name, last_name) \n",
    "select distinct player_id, player_first_name, player_last_name from strokes\n",
    "'''\n",
    "exec_sql(sqlTxt)"
   ]
  },
  {
   "cell_type": "code",
   "execution_count": 105,
   "metadata": {
    "collapsed": false,
    "deletable": true,
    "editable": true
   },
   "outputs": [],
   "source": [
    "sqlTxt = '''\n",
    "CREATE TABLE courses (\n",
    "     year        integer,\n",
    "     course_id    integer,\n",
    "     name   varchar(40) NOT NULL CHECK (name <> ''),\n",
    "     primary key (year, course_id) \n",
    ");\n",
    "'''\n",
    "exec_sql(sqlTxt)"
   ]
  },
  {
   "cell_type": "code",
   "execution_count": 106,
   "metadata": {
    "collapsed": false,
    "deletable": true,
    "editable": true
   },
   "outputs": [],
   "source": [
    "sqlTxt = '''\n",
    "insert into courses\n",
    "select distinct year, course_id, course_name from strokes\n",
    "'''\n",
    "exec_sql(sqlTxt)"
   ]
  },
  {
   "cell_type": "code",
   "execution_count": 115,
   "metadata": {
    "collapsed": false,
    "deletable": true,
    "editable": true
   },
   "outputs": [],
   "source": [
    "sqlTxt = '''\n",
    "CREATE TABLE tournaments (\n",
    "     year        integer,\n",
    "     permanent_tournament_id    integer,\n",
    "     name   varchar(100) NOT NULL CHECK (name <> ''),\n",
    "     primary key (year, permanent_tournament_id) \n",
    ");\n",
    "'''\n",
    "exec_sql(sqlTxt)"
   ]
  },
  {
   "cell_type": "code",
   "execution_count": 116,
   "metadata": {
    "collapsed": false,
    "deletable": true,
    "editable": true
   },
   "outputs": [],
   "source": [
    "sqlTxt = '''\n",
    "insert into tournaments\n",
    "select distinct year, permanent_tournament_id, tournament_name from strokes\n",
    "'''\n",
    "exec_sql(sqlTxt)"
   ]
  },
  {
   "cell_type": "code",
   "execution_count": 192,
   "metadata": {
    "collapsed": false,
    "deletable": true,
    "editable": true
   },
   "outputs": [],
   "source": [
    "sqlTxt = '''\n",
    "DROP TABLE IF EXISTS scores CASCADE;\n",
    "CREATE TABLE scores (\n",
    "     year        integer,\n",
    "     date        timestamp,\n",
    "     player_id   integer,\n",
    "     permanent_tournament_id    integer,\n",
    "     round       integer,\n",
    "     score       integer,\n",
    "     primary key (year, date, player_id, permanent_tournament_id, round) \n",
    ");\n",
    "\n",
    "CREATE VIEW scores_view AS\n",
    "  select * from scores\n",
    "  order by year, player_id, permanent_tournament_id, date, round;\n",
    "'''\n",
    "exec_sql(sqlTxt)"
   ]
  },
  {
   "cell_type": "code",
   "execution_count": 193,
   "metadata": {
    "collapsed": false,
    "deletable": true,
    "editable": true
   },
   "outputs": [],
   "source": [
    "sqlTxt = '''\n",
    "insert into scores\n",
    "select    year, date, player_id, permanent_tournament_id, round,  count(shot) as score\n",
    "  from    strokes \n",
    "    group by year, date, player_id, permanent_tournament_id, round\n",
    "    order by year, player_id, permanent_tournament_id, date, round\n",
    "'''\n",
    "exec_sql(sqlTxt)"
   ]
  },
  {
   "cell_type": "code",
   "execution_count": 190,
   "metadata": {
    "collapsed": false,
    "deletable": true,
    "editable": true
   },
   "outputs": [],
   "source": [
    "sqlTxt = '''\n",
    "CREATE OR REPLACE FUNCTION combine_scores()\n",
    "   RETURNS integer AS $$\n",
    "DECLARE \n",
    " num_recs integer = 0;\n",
    " first boolean = TRUE;\n",
    " score_rec   RECORD;\n",
    " prev_score_rec RECORD;\n",
    " scores_cur CURSOR \n",
    " FOR SELECT *\n",
    " FROM scores_view;\n",
    "BEGIN\n",
    "   -- Open the cursor\n",
    "   OPEN scores_cur;\n",
    " \n",
    "   LOOP\n",
    "    -- fetch row into the film\n",
    "      FETCH scores_cur INTO score_rec;\n",
    "    -- exit when no more row to fetch\n",
    "      EXIT WHEN NOT FOUND;\n",
    " \n",
    "    -- process\n",
    "      IF NOT first THEN \n",
    "        IF    score_rec.round = prev_score_rec.round \n",
    "          AND score_rec.player_id = prev_score_rec.player_id\n",
    "          AND score_rec.permanent_tournament_id = prev_score_rec.permanent_tournament_id\n",
    "          AND score_rec.year = prev_score_rec.year\n",
    "          THEN \n",
    "            UPDATE scores SET score = score + prev_score_rec.score \n",
    "              WHERE year = score_rec.year\n",
    "              AND   player_id = score_rec.player_id\n",
    "              AND   date = score_rec.date\n",
    "              AND   permanent_tournament_id = score_rec.permanent_tournament_id\n",
    "              AND   round = score_rec.round;\n",
    "            DELETE from scores \n",
    "              WHERE year = prev_score_rec.year\n",
    "              AND   player_id = prev_score_rec.player_id\n",
    "              AND   date = prev_score_rec.date\n",
    "              AND   permanent_tournament_id = prev_score_rec.permanent_tournament_id\n",
    "              AND   round = prev_score_rec.round;\n",
    "            num_recs := num_recs + 1;\n",
    "          score_rec.score = score_rec.score + prev_score_rec.score;\n",
    "        END IF;\n",
    "      ELSE\n",
    "        first = FALSE;\n",
    "      END IF;\n",
    "      prev_score_rec = score_rec;\n",
    "   END LOOP;\n",
    "  \n",
    "   -- Close the cursor\n",
    "   CLOSE scores_cur;\n",
    " \n",
    "   RETURN num_recs;\n",
    "END; $$\n",
    " \n",
    "LANGUAGE plpgsql;\n",
    "'''\n",
    "exec_sql(sqlTxt)\n",
    "exec_sql('execute combine_rounds()')"
   ]
  },
  {
   "cell_type": "code",
   "execution_count": 27,
   "metadata": {
    "collapsed": false
   },
   "outputs": [],
   "source": [
    "sqlTxt = '''\n",
    "DROP VIEW IF EXISTS stats_view;\n",
    "\n",
    "CREATE VIEW stats_view AS \n",
    "  select s.year, s.player_id, first_name, last_name, avg(score) as avg_score, stddev(score) as std_score\n",
    "      from scores as s, players p \n",
    "      where s.player_id = p.player_id \n",
    "      group by s.year, first_name, last_name, s.player_id\n",
    "      having count(score) > 50\n",
    "      order by year, avg_score;\n",
    "'''\n",
    "exec_sql(sqlTxt)\n"
   ]
  },
  {
   "cell_type": "code",
   "execution_count": 31,
   "metadata": {
    "collapsed": true
   },
   "outputs": [],
   "source": [
    "sqlTxt = '''\n",
    "DROP VIEW IF EXISTS rank_view;\n",
    "\n",
    "CREATE VIEW rank_view AS\n",
    "    select year, player_id, ROW_NUMBER() over (order by avg_score) from stats_view;\n",
    "'''\n",
    "exec_sql(sqlTxt)"
   ]
  },
  {
   "cell_type": "code",
   "execution_count": null,
   "metadata": {
    "collapsed": true,
    "deletable": true,
    "editable": true
   },
   "outputs": [],
   "source": [
    "#  DELETE ROUNDS WITHOUT 18 holes\n",
    "sqlTxt = '''\n",
    "delete from scores s\n",
    "    where exists (select year, player_id, permanent_tournament_id, round, count(hole) \n",
    "      from (select    distinct year, player_id, permanent_tournament_id, round,  hole\n",
    "          from    strokes) b\n",
    "      where b.year = s.year \n",
    "        and b.player_id = s.player_id\n",
    "        and b.permanent_tournament_id = s.permanent_tournament_id\n",
    "        and b.round = s.round\n",
    "      group by year, player_id, permanent_tournament_id, round\n",
    "      having count(hole) < 18\n",
    ")\n",
    "'''\n",
    "exec_sql(sqlTxt)\n"
   ]
  },
  {
   "cell_type": "code",
   "execution_count": 24,
   "metadata": {
    "collapsed": false,
    "deletable": true,
    "editable": true
   },
   "outputs": [
    {
     "data": {
      "image/png": "[encoded data removed]",
      "text/plain": [
       "<matplotlib.figure.Figure at 0x10f63d510>"
      ]
     },
     "metadata": {},
     "output_type": "display_data"
    }
   ],
   "source": [
    "sqlTxt = '''\n",
    "select * from stats_view where year = 2014 limit 100;\n",
    "  \n",
    "'''\n",
    "df = pd_from_sql(sqlTxt)\n",
    "foo = plt.errorbar(range(0, len (df)), df['avg_score'], df['std_score'], linestyle='None', marker='^')"
   ]
  },
  {
   "cell_type": "code",
   "execution_count": 224,
   "metadata": {
    "collapsed": false,
    "deletable": true,
    "editable": true
   },
   "outputs": [
    {
     "data": {
      "text/plain": [
       "216"
      ]
     },
     "execution_count": 224,
     "metadata": {},
     "output_type": "execute_result"
    }
   ],
   "source": []
  },
  {
   "cell_type": "code",
   "execution_count": 228,
   "metadata": {
    "collapsed": false,
    "deletable": true,
    "editable": true
   },
   "outputs": [],
   "source": []
  }
 ],
 "metadata": {
  "kernelspec": {
   "display_name": "Python 2",
   "language": "python",
   "name": "python2"
  },
  "language_info": {
   "codemirror_mode": {
    "name": "ipython",
    "version": 2
   },
   "file_extension": ".py",
   "mimetype": "text/x-python",
   "name": "python",
   "nbconvert_exporter": "python",
   "pygments_lexer": "ipython2",
   "version": "2.7.13"
  }
 },
 "nbformat": 4,
 "nbformat_minor": 2
}
