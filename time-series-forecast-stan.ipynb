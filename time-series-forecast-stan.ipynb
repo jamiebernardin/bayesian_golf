{
 "cells": [
  {
   "cell_type": "code",
   "execution_count": 2,
   "metadata": {
    "collapsed": false,
    "deletable": true,
    "editable": true
   },
   "outputs": [],
   "source": [
    "from pystan import StanModel\n",
    "import util\n",
    "import pandas as pd\n",
    "import numpy as np"
   ]
  },
  {
   "cell_type": "code",
   "execution_count": 112,
   "metadata": {
    "collapsed": true,
    "deletable": true,
    "editable": true
   },
   "outputs": [],
   "source": []
  },
  {
   "cell_type": "code",
   "execution_count": 3,
   "metadata": {
    "collapsed": true,
    "deletable": true,
    "editable": true
   },
   "outputs": [],
   "source": [
    "code = '''\n",
    "data {\n",
    "    int sg_n;\n",
    "    int<lower=2> N;\n",
    "    matrix[sg_n,N] y;\n",
    "    vector[sg_n+1] s_coef;\n",
    "}\n",
    "parameters {\n",
    "    vector[sg_n] alpha;\n",
    "    vector[sg_n] beta;\n",
    "    vector<lower=0>[sg_n] sigma;\n",
    "    vector[sg_n] y_tilda;\n",
    "} \n",
    "model {\n",
    "    for (k in 1:sg_n) {\n",
    "        for (n in 2:N) {\n",
    "            y[k][n] ~ normal(alpha[k]+ beta[k] * y[k][n-1], sigma[k]);\n",
    "        }\n",
    "    }\n",
    "    for (j in 1:sg_n) {\n",
    "        y_tilda[j] ~ normal(alpha[j]+ beta[j] * y[j][N], sigma[j]);\n",
    "    }\n",
    "}\n",
    "generated quantities {\n",
    "    real score_predict;\n",
    "    score_predict = s_coef[1] + s_coef[2]*y_tilda[1] + s_coef[3]*y_tilda[2] \n",
    "                + s_coef[4]*y_tilda[3] + s_coef[5]*y_tilda[4];\n",
    "}\n",
    "'''"
   ]
  },
  {
   "cell_type": "code",
   "execution_count": 29,
   "metadata": {
    "collapsed": true,
    "deletable": true,
    "editable": true
   },
   "outputs": [],
   "source": [
    "num_scores = 30\n",
    "year = 2016\n",
    "tag = '30-prev-sg-50'"
   ]
  },
  {
   "cell_type": "code",
   "execution_count": 30,
   "metadata": {
    "collapsed": false,
    "deletable": true,
    "editable": true
   },
   "outputs": [],
   "source": [
    "sqlTxt = '''\n",
    "select player_id from stats_view where year = %s limit 50;\n",
    "'''\n",
    "player_ids = util.pd_from_sql(sqlTxt, [year]).as_matrix();\n",
    "\n",
    "sqlTxt = '''\n",
    "select permanent_tournament_id, (b_offset).mean as offset,\n",
    "       (b_tee).mean as tee, (b_approach).mean as approach, \n",
    "       (b_around).mean as around, (b_putting).mean as putting\n",
    "       from stan_sg_tournaments \n",
    "       where year = %s \n",
    "       and tag like 'sg-50';\n",
    "'''\n",
    "t_df = util.pd_from_sql(sqlTxt, [year])\n",
    "sg_coef_map = t_df.set_index(['permanent_tournament_id']).T.to_dict('list')"
   ]
  },
  {
   "cell_type": "code",
   "execution_count": 31,
   "metadata": {
    "collapsed": false,
    "deletable": true,
    "editable": true
   },
   "outputs": [],
   "source": [
    "p_sqlTxt = '''\n",
    "select player_id, permanent_tournament_id, round, sg_tee, sg_approach, \n",
    "       sg_around, sg_putting \n",
    "    from scores\n",
    "    where year = %s \n",
    "      and player_id = %s \n",
    "      and sg_putting is not null\n",
    "      and sg_tee is not null\n",
    "      and sg_around is not null\n",
    "      and sg_approach is not null\n",
    "      order by date;\n",
    "'''\n",
    "i_sqlTxt = '''\n",
    "insert into stan_prediction values(%s, %s, %s, %s, %s, (%s, %s, %s, %s, %s, %s, %s, %s));\n",
    "'''"
   ]
  },
  {
   "cell_type": "code",
   "execution_count": 7,
   "metadata": {
    "collapsed": false,
    "deletable": true,
    "editable": true
   },
   "outputs": [
    {
     "name": "stderr",
     "output_type": "stream",
     "text": [
      "INFO:pystan:COMPILING THE C++ CODE FOR MODEL anon_model_09b67b94dc836f93d73b5592b851118d NOW.\n"
     ]
    }
   ],
   "source": [
    "stan_model = StanModel(model_code=code);"
   ]
  },
  {
   "cell_type": "code",
   "execution_count": 32,
   "metadata": {
    "collapsed": false,
    "deletable": true,
    "editable": true
   },
   "outputs": [],
   "source": [
    "\n",
    "for p_id in player_ids:\n",
    "    p_id = p_id[0]\n",
    "    players_df = util.pd_from_sql(p_sqlTxt, [year, p_id])\n",
    "    y_all = [players_df[sg].as_matrix() for sg in['sg_tee', 'sg_approach', 'sg_around', 'sg_putting'] ]\n",
    "    y_all = [ players_df['permanent_tournament_id'] , players_df['round'].as_matrix()] + y_all\n",
    "    s_coefs = [sg_coef_map[i] for i in players_df['permanent_tournament_id'].as_matrix()]\n",
    "    for j in range(0, len (s_coefs) - num_scores - 1):\n",
    "        y = [y_all[m][j:j+num_scores] for m in range(2,6)]\n",
    "        s_coef = s_coefs[j+num_scores]\n",
    "        data = { 'N': len (y[0]), 'y': y, 'sg_n' : 4, 's_coef' : s_coef }\n",
    "        fit = stan_model.sampling(data=data, iter=1000, chains=4)\n",
    "        params = fit.summary()['summary']\n",
    "        args = [p_id, y_all[0][j+num_scores], year, tag, y_all[1][j+num_scores]] + params[16][:8].tolist()\n",
    "        util.insert_sql(i_sqlTxt, args)"
   ]
  },
  {
   "cell_type": "code",
   "execution_count": null,
   "metadata": {
    "collapsed": true,
    "deletable": true,
    "editable": true
   },
   "outputs": [],
   "source": [
    "\n"
   ]
  },
  {
   "cell_type": "code",
   "execution_count": 14,
   "metadata": {
    "collapsed": false,
    "deletable": true,
    "editable": true
   },
   "outputs": [
    {
     "name": "stderr",
     "output_type": "stream",
     "text": [
      "INFO:pystan:COMPILING THE C++ CODE FOR MODEL anon_model_6abda944bb0b6acb21d3626f5be8dfef NOW.\n"
     ]
    },
    {
     "name": "stdout",
     "output_type": "stream",
     "text": [
      "Inference for Stan model: anon_model_6abda944bb0b6acb21d3626f5be8dfef.\n",
      "4 chains, each with iter=1000; warmup=500; thin=1; \n",
      "post-warmup draws per chain=500, total post-warmup draws=2000.\n",
      "\n",
      "           mean se_mean     sd   2.5%    25%    50%    75%  97.5%  n_eff   Rhat\n",
      "mu         0.61  9.2e-3   0.26   0.17   0.44    0.6   0.76   1.16  766.0    1.0\n",
      "phi[0]     0.33    0.02   0.34  -0.46   0.14   0.41   0.57   0.85  295.0   1.02\n",
      "phi[1]    -0.45    0.02   0.32   -0.9  -0.67  -0.51  -0.28   0.33  262.0   1.03\n",
      "theta[0]   -0.1    0.02    0.3  -0.59  -0.31  -0.16   0.06   0.62  300.0   1.02\n",
      "theta[1]    0.6    0.01   0.31  -0.18   0.46   0.68   0.84   0.97  450.0   1.02\n",
      "sigma      1.01  2.8e-3    0.1   0.84   0.94    1.0   1.07   1.22 1223.0    1.0\n",
      "y_tilda    0.62    0.03   1.08  -1.45  -0.09   0.63   1.31   2.82 1249.0    1.0\n",
      "lp__     -33.79    0.09   2.05 -38.48 -34.94  -33.4 -32.31 -30.78  523.0    1.0\n",
      "\n",
      "Samples were drawn using NUTS at Thu Aug 10 22:57:51 2017.\n",
      "For each parameter, n_eff is a crude measure of effective sample size,\n",
      "and Rhat is the potential scale reduction factor on split chains (at \n",
      "convergence, Rhat=1).\n"
     ]
    }
   ],
   "source": [
    "# first cut model to test....\n",
    "draft_code = '''\n",
    "data {\n",
    "    int<lower=1> T;\n",
    "    real y[T];\n",
    "}\n",
    "parameters {\n",
    "    real mu;\n",
    "    vector<lower = -1, upper = 1>[2] phi;\n",
    "    vector<lower = -1, upper = 1>[2] theta;\n",
    "    real<lower=0> sigma;\n",
    "    real y_tilda;\n",
    "} \n",
    "model {\n",
    "    vector[T] nu;\n",
    "    vector[T] err;\n",
    "    nu[1] = mu + phi[1] * mu;\n",
    "    err[1] = y[1] - nu[1];\n",
    "    nu[2] = mu + phi[1]*y[1] + theta[1]*err[1];\n",
    "    err[2] = y[2] - nu[2];\n",
    "    for (t in 3:T) {\n",
    "        nu[t] = mu + phi[1] * y[t-1] + phi[2]*y[t-2] \n",
    "              + theta[1] * err[t-1] + theta[2] * err[t-2];\n",
    "        err[t] = y[t] - nu[t];\n",
    "    }\n",
    "    mu ~ normal(0, 10);\n",
    "    phi ~ normal(0, 2);\n",
    "    theta ~ normal(0, 2);\n",
    "    sigma ~ cauchy(0, 5);\n",
    "    err ~ normal(0, sigma);\n",
    "    y_tilda ~ normal(mu + y[T]*phi[1]+y[T-1]*phi[2] + theta[1]*err[T] + theta[2]*err[T-1], sigma);\n",
    "}\n",
    "\n",
    "'''\n",
    "y =  [ 2.352,  2.619,  3.292,  2.657,  0.739,  1.115,  0.148,  0.572,\n",
    "        0.859,  1.081,  1.104,  0.952, -1.324, -0.998,  1.124, -0.442,\n",
    "        0.824, -0.825, -2.64 , -0.563,  1.129,  1.047,  0.943,  0.781,\n",
    "       -0.933,  0.124,  0.341,  1.1  , -0.282,  1.173,  0.089,  1.544,\n",
    "        0.026, -0.855,  1.448,  0.426, -0.245,  1.346, -0.36 , -0.328,\n",
    "        0.482,  0.614,  0.572,  0.737, -0.097,  1.668, -0.012,  0.97 ,\n",
    "       -0.898,  0.159,  1.543, -0.297,  1.257,  0.761,  0.725,  0.629,\n",
    "        1.871,  0.061]\n",
    "data = {\n",
    "    'T': len (y),\n",
    "    'y': y\n",
    "}\n",
    "\n",
    "fit = pystan.stan(model_code=code, data=data, iter=1000, chains=4)\n",
    "# params = fs = fit.summary()['summary']\n",
    "print fit"
   ]
  },
  {
   "cell_type": "code",
   "execution_count": null,
   "metadata": {
    "collapsed": false,
    "deletable": true,
    "editable": true
   },
   "outputs": [],
   "source": [
    "\n",
    "# \n",
    "\n",
    "code = '''\n",
    "data {\n",
    "    int<lower=1> N_SEG;\n",
    "    int<lower=2> N;\n",
    "    matrix[4,N] y;\n",
    "    int<lower=2> N_PRED;\n",
    "    real s_base;\n",
    "}\n",
    "parameters {\n",
    "    matrix[4,N_SEG] alpha;\n",
    "    vector[4] beta;\n",
    "    vector<lower=0>[4] sigma;\n",
    "    matrix[4,N_PRED] y_tilda;\n",
    "} \n",
    "model {\n",
    "    int m;\n",
    "    for (k in 1:4) {\n",
    "        for (n in 2:N) {\n",
    "            m = (n-1)*N_SEG/N + 1;\n",
    "            y[k][n] ~ normal(alpha[k][m]+ beta[k] * y[k][n-1], sigma[k]);\n",
    "        }\n",
    "    }\n",
    "    for (j in 1:4) {\n",
    "        y_tilda[j][1] ~ normal(alpha[j][N_SEG]+ beta[j] * y[j][N], sigma[j]);\n",
    "        for (i in 2:N_PRED) {\n",
    "            y_tilda[j][i] ~ normal(alpha[j][N_SEG] + beta[j]* y_tilda[j][i-1], sigma[j]);\n",
    "        }\n",
    "    }\n",
    "}\n",
    "generated quantities {\n",
    "      vector[N_PRED] score_predict;\n",
    "      for (l in 1:N_PRED) {\n",
    "        score_predict[l] = s_base - y_tilda[1][l] - y_tilda[2][l] - y_tilda[3][l] - y_tilda[4][l];\n",
    "    }\n",
    "}\n",
    "\n",
    "'''\n",
    "data = {\n",
    "    'N': len (y[0]),\n",
    "    'y': y,\n",
    "    'N_SEG' : 2,\n",
    "    'N_PRED' :4, \n",
    "    's_base' : 71.571\n",
    "}\n",
    "\n",
    "fit = pystan.stan(model_code=code, data=data, iter=1000, chains=4)\n",
    "# params = fs = fit.summary()['summary']\n",
    "print fit"
   ]
  }
 ],
 "metadata": {
  "kernelspec": {
   "display_name": "Python 2",
   "language": "python",
   "name": "python2"
  },
  "language_info": {
   "codemirror_mode": {
    "name": "ipython",
    "version": 2
   },
   "file_extension": ".py",
   "mimetype": "text/x-python",
   "name": "python",
   "nbconvert_exporter": "python",
   "pygments_lexer": "ipython2",
   "version": "2.7.13"
  }
 },
 "nbformat": 4,
 "nbformat_minor": 2
}
