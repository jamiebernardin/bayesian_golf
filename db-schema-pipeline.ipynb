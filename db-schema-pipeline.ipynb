{
 "cells": [
  {
   "cell_type": "code",
   "execution_count": 2,
   "metadata": {
    "collapsed": false,
    "deletable": true,
    "editable": true
   },
   "outputs": [],
   "source": [
    "import util\n",
    "%precision 4\n",
    "%matplotlib inline\n"
   ]
  },
  {
   "cell_type": "code",
   "execution_count": 63,
   "metadata": {
    "collapsed": true,
    "deletable": true,
    "editable": true
   },
   "outputs": [],
   "source": [
    "# Shotlink data files (not available in git - visit pga site for getting research access)\n",
    "files = ['data/rshot-2014.txt', 'data/rshot-2015.txt', 'data/rshot-2016.txt']"
   ]
  },
  {
   "cell_type": "code",
   "execution_count": null,
   "metadata": {
    "collapsed": false,
    "deletable": true,
    "editable": true
   },
   "outputs": [],
   "source": [
    "# this could be done using psql batch imports.  this works, is convenient but slow\n",
    "for f in files:\n",
    "    # inner function to convert column names from flat file header names\n",
    "    def convert(c):\n",
    "        return c.lower().replace(' ', '_').replace('/', '_').replace('.', '_').replace('#', 'id').replace('(', '_').replace(')', '').replace('id_of', 'num_of')\n",
    "    df = pd.read_csv(filepath_or_buffer=f, sep=';', skipinitialspace=True)\n",
    "    df.columns = [convert(col) for col in df.columns]\n",
    "    df['date'] = pd.to_datetime(df['date'])\n",
    "    df.to_sql(name= 'strokes', con= golf_engine, if_exists= 'append')"
   ]
  },
  {
   "cell_type": "code",
   "execution_count": 32,
   "metadata": {
    "collapsed": false,
    "deletable": true,
    "editable": true
   },
   "outputs": [],
   "source": [
    "# aggregate scores for players, tournaments, years, rounds\n",
    "sql_txt = '''\n",
    "drop table if exists scores cascade;\n",
    "create table scores (\n",
    "     year        integer,\n",
    "     date        timestamp,\n",
    "     player_id   integer,\n",
    "     permanent_tournament_id    integer,\n",
    "     round       integer,\n",
    "     score       integer,\n",
    "     sg_tee      float,\n",
    "     sg_approach float,\n",
    "     sg_around   float,\n",
    "     sg_putting  float,\n",
    "     primary key (year, date, player_id, permanent_tournament_id, round) \n",
    ");\n",
    "\n",
    "create view scores_view AS\n",
    "  select * from scores\n",
    "  order by year, player_id, permanent_tournament_id, date, round;\n",
    "'''\n",
    "exec_sql(sql_txt)"
   ]
  },
  {
   "cell_type": "code",
   "execution_count": 33,
   "metadata": {
    "collapsed": false,
    "deletable": true,
    "editable": true
   },
   "outputs": [],
   "source": [
    "sql_txt = '''\n",
    "    insert into scores\n",
    "    select    year, date, player_id, permanent_tournament_id, round,  count(shot)\n",
    "        from    strokes \n",
    "        group by year, date, player_id, permanent_tournament_id, round\n",
    "        order by year, player_id, permanent_tournament_id, date, round;\n",
    "'''\n",
    "exec_sql(sql_txt)"
   ]
  },
  {
   "cell_type": "code",
   "execution_count": 37,
   "metadata": {
    "collapsed": false,
    "deletable": true,
    "editable": true
   },
   "outputs": [],
   "source": [
    "# combine rounds\n",
    "sql_txt = '''\n",
    "    create or replace function combine_rounds()\n",
    "        returns integer AS $$\n",
    "    declare \n",
    "        num_recs integer = 0;\n",
    "        first boolean = true;\n",
    "        score_rec   record;\n",
    "        prev_score_rec record;\n",
    "        scores_cur cursor \n",
    "            for select *\n",
    "            from scores_view;\n",
    "    begin\n",
    "        open scores_cur;\n",
    "        loop\n",
    "            fetch scores_cur into score_rec;\n",
    "            exit when not found;\n",
    " \n",
    "            if not first then \n",
    "                if  score_rec.round = prev_score_rec.round \n",
    "                    and score_rec.player_id = prev_score_rec.player_id\n",
    "                    and score_rec.permanent_tournament_id = prev_score_rec.permanent_tournament_id\n",
    "                    and score_rec.year = prev_score_rec.year\n",
    "                then \n",
    "                    update scores \n",
    "                        set score = score + prev_score_rec.score \n",
    "                        where year = score_rec.year\n",
    "                        and   player_id = score_rec.player_id\n",
    "                        and   date = score_rec.date\n",
    "                        and   permanent_tournament_id = score_rec.permanent_tournament_id\n",
    "                        and   round = score_rec.round;\n",
    "                    delete from scores \n",
    "                        where year = prev_score_rec.year\n",
    "                        and   player_id = prev_score_rec.player_id\n",
    "                        and   date = prev_score_rec.date\n",
    "                        and   permanent_tournament_id = prev_score_rec.permanent_tournament_id\n",
    "                        and   round = prev_score_rec.round;\n",
    "                    num_recs := num_recs + 1;\n",
    "                    score_rec.score = score_rec.score + prev_score_rec.score;\n",
    "                end if;\n",
    "            else\n",
    "                first = false;\n",
    "            end if;\n",
    "            \n",
    "            prev_score_rec = score_rec;\n",
    "        end loop;\n",
    "  \n",
    "        close scores_cur;\n",
    " \n",
    "        return num_recs;\n",
    "    end; $$\n",
    "\n",
    "    language plpgsql;\n",
    "'''\n",
    "exec_sql(sql_txt)\n",
    "exec_sql('select combine_rounds()')"
   ]
  },
  {
   "cell_type": "code",
   "execution_count": 97,
   "metadata": {
    "collapsed": false,
    "deletable": true,
    "editable": true
   },
   "outputs": [],
   "source": [
    "sql_txt = '''\n",
    "    drop view if exists stats_view cascade;\n",
    "    create view stats_view as \n",
    "        select s.year, s.player_id, name, avg(score) as avg_score, stddev(score) as std_score, \n",
    "             avg(sg_tee) as avg_sg_tee, avg(sg_approach) as avg_sg_approach, \n",
    "             avg(sg_around) as avg_sg_around, avg(sg_putting) as avg_sg_putting\n",
    "          from scores as s, players p \n",
    "          where s.player_id = p.player_id \n",
    "          group by s.year, name, s.player_id\n",
    "          having count(score) > 25\n",
    "          order by year, avg_score;\n",
    "'''\n",
    "exec_sql(sql_txt)\n"
   ]
  },
  {
   "cell_type": "code",
   "execution_count": 98,
   "metadata": {
    "collapsed": true,
    "deletable": true,
    "editable": true
   },
   "outputs": [],
   "source": [
    "sql_txt = '''\n",
    "    drop view if exists rank_view;\n",
    "    create view rank_view as\n",
    "        select year, player_id, row_number() over (order by avg_score) from stats_view;\n",
    "'''\n",
    "exec_sql(sql_txt)"
   ]
  },
  {
   "cell_type": "code",
   "execution_count": 38,
   "metadata": {
    "collapsed": true,
    "deletable": true,
    "editable": true
   },
   "outputs": [],
   "source": [
    "#  DELETE ROUNDS WITHOUT 18 holes\n",
    "sql_txt = '''\n",
    "    delete from scores s\n",
    "        where exists (select year, player_id, permanent_tournament_id, round, count(hole) \n",
    "            from (select    distinct year, player_id, permanent_tournament_id, round,  hole\n",
    "                  from    strokes) b\n",
    "              where b.year = s.year \n",
    "                and b.player_id = s.player_id\n",
    "                and b.permanent_tournament_id = s.permanent_tournament_id\n",
    "                and b.round = s.round\n",
    "                group by year, player_id, permanent_tournament_id, round\n",
    "                having count(hole) < 18\n",
    "    );\n",
    "'''\n",
    "exec_sql(sql_txt)\n"
   ]
  },
  {
   "cell_type": "code",
   "execution_count": 19,
   "metadata": {
    "collapsed": false,
    "deletable": true,
    "editable": true
   },
   "outputs": [],
   "source": [
    "sql_txt = '''\n",
    "    create or replace function update_strokes_gained(category text, category_field text)\n",
    "        returns integer as $$\n",
    "    declare \n",
    "        num_recs integer = 0;\n",
    "        round_rec   record;\n",
    "        round_cur cursor for\n",
    "            select year, player_id, permanent_tournament_id, round, sum(strokes_gained_baseline) as sg\n",
    "            from strokes\n",
    "            where strokes_gained_category like category\n",
    "            group by year, player_id, permanent_tournament_id, round;\n",
    "    begin\n",
    "        open round_cur;\n",
    " \n",
    "        loop\n",
    "            fetch round_cur INTO round_rec;\n",
    "            exit when not found;\n",
    "\n",
    "            execute 'update scores \n",
    "                set ' || category_field || ' = ' || round_rec.sg ||\n",
    "                ' where year = ' || round_rec.year || '\n",
    "                and player_id = ' || round_rec.player_id || '\n",
    "                and permanent_tournament_id = ' || round_rec.permanent_tournament_id || '\n",
    "                and round = ' || round_rec.round || ';';\n",
    "            num_recs = num_recs + 1;\n",
    "        end loop;\n",
    "\n",
    "       close round_cur;\n",
    " \n",
    "       return num_recs;\n",
    "    end; $$\n",
    "    language plpgsql;\n",
    "'''\n",
    "util.exec_sql(sql_txt)\n",
    "util.exec_sql(\"select update_strokes_gained('Off the Tee', 'sg_tee')\")\n",
    "util.exec_sql(\"select update_strokes_gained('Approach to the Green', 'sg_approach')\")\n",
    "util.exec_sql(\"select update_strokes_gained('Around the Green', 'sg_around')\")\n",
    "util.exec_sql(\"select update_strokes_gained('Putting', 'sg_putting')\")"
   ]
  },
  {
   "cell_type": "code",
   "execution_count": 14,
   "metadata": {
    "collapsed": false,
    "deletable": true,
    "editable": true
   },
   "outputs": [],
   "source": [
    "sql_txt = '''\n",
    "    drop type if exists stat cascade;\n",
    "    create type stat as (\n",
    "        mean float, \n",
    "        se float, \n",
    "        sd float\n",
    "    );\n",
    "\n",
    "    drop table if exists stan_tournaments cascade;\n",
    "    create table stan_tournaments (\n",
    "        permanent_tournament_id     integer,\n",
    "        year          integer,\n",
    "        tag           varchar(50),\n",
    "        alpha         stat,\n",
    "        primary key (permanent_tournament_id, year, tag) \n",
    "    );\n",
    "'''\n",
    "util.exec_sql(sql_txt)"
   ]
  },
  {
   "cell_type": "code",
   "execution_count": 4,
   "metadata": {
    "collapsed": false,
    "deletable": true,
    "editable": true
   },
   "outputs": [],
   "source": [
    "sql_txt = '''\n",
    "    drop table if exists stan_players cascade;\n",
    "    create table stan_players (\n",
    "        player_id     integer,\n",
    "        year          integer,\n",
    "        tag           varchar(50),\n",
    "        tau           stat,\n",
    "        sigma         stat,\n",
    "        primary key (player_id, year, tag) \n",
    "    );\n",
    "'''\n",
    "util.exec_sql(sql_txt)"
   ]
  },
  {
   "cell_type": "code",
   "execution_count": 23,
   "metadata": {
    "collapsed": false,
    "deletable": true,
    "editable": true
   },
   "outputs": [],
   "source": [
    "sql_txt = '''\n",
    "    drop table if exists stan_sg_tournaments cascade;\n",
    "    create table stan_sg_tournaments (\n",
    "         permanent_tournament_id     integer,\n",
    "         year                        integer,\n",
    "         tag                     varchar(50),\n",
    "         b_offset                      stat,\n",
    "         b_tee                         stat,\n",
    "         b_approach                    stat,\n",
    "         b_around                      stat,\n",
    "         b_putting                     stat,\n",
    "         primary key (permanent_tournament_id, year, tag) \n",
    "    );\n",
    "'''\n",
    "util.exec_sql(sql_txt)"
   ]
  },
  {
   "cell_type": "code",
   "execution_count": 6,
   "metadata": {
    "collapsed": true,
    "deletable": true,
    "editable": true
   },
   "outputs": [],
   "source": [
    "sql_txt = '''\n",
    "    drop type if exists full_stat cascade;\n",
    "    create type full_stat as (\n",
    "        mean float, \n",
    "        se float, \n",
    "        sd float, \n",
    "        p_025 float, \n",
    "        p_25 float, \n",
    "        p_50 float, \n",
    "        p_75 float, \n",
    "        p_975 float\n",
    "    );\n",
    "                                                   \n",
    "    drop table if exists stan_prediction;\n",
    "    create table stan_prediction (\n",
    "        player_id                   integer,\n",
    "        permanent_tournament_id     integer,\n",
    "        year                        integer,\n",
    "        tag                         varchar(50),\n",
    "        round                       integer,\n",
    "        score                       full_stat,\n",
    "        primary key (player_id, permanent_tournament_id, year, tag, round) \n",
    "    );\n",
    "'''\n",
    "util.exec_sql(sql_txt)"
   ]
  },
  {
   "cell_type": "code",
   "execution_count": null,
   "metadata": {
    "collapsed": false,
    "deletable": true,
    "editable": true
   },
   "outputs": [],
   "source": [
    "# convenience table for player names\n",
    "sql_txt = '''\n",
    "    drop table if exists players cascade;\n",
    "    create table players (\n",
    "         player_id    integer PRIMARY KEY,\n",
    "         name   varchar(40) NOT NULL CHECK (name <> '')\n",
    ");\n",
    "'''\n",
    "exec_sql(sql_txt)"
   ]
  },
  {
   "cell_type": "code",
   "execution_count": null,
   "metadata": {
    "collapsed": true
   },
   "outputs": [],
   "source": [
    "sql_txt = '''\n",
    "    insert into players (player_id, name) \n",
    "        select distinct player_id, player_first_name || ' ' ||  player_last_name from strokes;\n",
    "'''\n",
    "exec_sql(sql_txt)"
   ]
  },
  {
   "cell_type": "code",
   "execution_count": null,
   "metadata": {
    "collapsed": true
   },
   "outputs": [],
   "source": [
    "# convenience table for courses\n",
    "sql_txt = '''\n",
    "create table courses (\n",
    "     year        integer,\n",
    "     course_id    integer,\n",
    "     name   varchar(40) NOT NULL CHECK (name <> ''),\n",
    "     primary key (year, course_id) \n",
    ");\n",
    "'''\n",
    "exec_sql(sql_txt)"
   ]
  },
  {
   "cell_type": "code",
   "execution_count": null,
   "metadata": {
    "collapsed": true
   },
   "outputs": [],
   "source": [
    "sql_txt = '''\n",
    "    insert into courses\n",
    "        select distinct year, course_id, course_name from strokes\n",
    "'''\n",
    "exec_sql(sql_txt)"
   ]
  },
  {
   "cell_type": "code",
   "execution_count": null,
   "metadata": {
    "collapsed": true
   },
   "outputs": [],
   "source": [
    "# convenience table for tournaments\n",
    "sql_txt = '''\n",
    "    create table tournaments (\n",
    "        year        integer,\n",
    "        permanent_tournament_id    integer,\n",
    "        name   varchar(100) NOT NULL CHECK (name <> ''),\n",
    "        primary key (year, permanent_tournament_id) \n",
    "    );\n",
    "'''\n",
    "exec_sql(sql_txt)"
   ]
  },
  {
   "cell_type": "code",
   "execution_count": null,
   "metadata": {
    "collapsed": true
   },
   "outputs": [],
   "source": [
    "sql_txt = '''\n",
    "    insert into tournaments\n",
    "        select distinct year, permanent_tournament_id, tournament_name from strokes;\n",
    "'''\n",
    "exec_sql(sql_txt)"
   ]
  }
 ],
 "metadata": {
  "kernelspec": {
   "display_name": "Python 2",
   "language": "python",
   "name": "python2"
  },
  "language_info": {
   "codemirror_mode": {
    "name": "ipython",
    "version": 2
   },
   "file_extension": ".py",
   "mimetype": "text/x-python",
   "name": "python",
   "nbconvert_exporter": "python",
   "pygments_lexer": "ipython2",
   "version": "2.7.13"
  }
 },
 "nbformat": 4,
 "nbformat_minor": 2
}
