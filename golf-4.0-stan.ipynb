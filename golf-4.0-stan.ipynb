{
 "cells": [
  {
   "cell_type": "code",
   "execution_count": 134,
   "metadata": {
    "collapsed": false
   },
   "outputs": [],
   "source": [
    "from pystan import StanModel\n",
    "import util\n",
    "import pandas as pd\n",
    "import numpy as np"
   ]
  },
  {
   "cell_type": "code",
   "execution_count": 112,
   "metadata": {
    "collapsed": true
   },
   "outputs": [],
   "source": [
    "num_scores = 30"
   ]
  },
  {
   "cell_type": "code",
   "execution_count": 132,
   "metadata": {
    "collapsed": true
   },
   "outputs": [],
   "source": [
    "code = '''\n",
    "data {\n",
    "    int sg_n;\n",
    "    int<lower=2> N;\n",
    "    matrix[sg_n,N] y;\n",
    "    vector[sg_n+1] s_coef;\n",
    "}\n",
    "parameters {\n",
    "    vector[sg_n] alpha;\n",
    "    vector[sg_n] beta;\n",
    "    vector<lower=0>[sg_n] sigma;\n",
    "    vector[sg_n] y_tilda;\n",
    "} \n",
    "model {\n",
    "    for (k in 1:sg_n) {\n",
    "        for (n in 2:N) {\n",
    "            y[k][n] ~ normal(alpha[k]+ beta[k] * y[k][n-1], sigma[k]);\n",
    "        }\n",
    "    }\n",
    "    for (j in 1:sg_n) {\n",
    "        y_tilda[j] ~ normal(alpha[j]+ beta[j] * y[j][N], sigma[j]);\n",
    "    }\n",
    "}\n",
    "generated quantities {\n",
    "    real score_predict;\n",
    "    score_predict = s_coef[1] + s_coef[2]*y_tilda[1] + s_coef[3]*y_tilda[2] \n",
    "                + s_coef[4]*y_tilda[3] + s_coef[5]*y_tilda[4];\n",
    "}\n",
    "'''"
   ]
  },
  {
   "cell_type": "code",
   "execution_count": 110,
   "metadata": {
    "collapsed": false
   },
   "outputs": [],
   "source": [
    "\n",
    "\n",
    "sqlTxt = '''\n",
    "select player_id from stats_view where year = 2016 limit 50;\n",
    "'''\n",
    "player_ids = util.np_from_sql(sqlTxt);\n",
    "\n",
    "sqlTxt = '''\n",
    "select permanent_tournament_id, (b_offset).mean as offset,\n",
    "       (b_tee).mean as tee, (b_approach).mean as approach, \n",
    "       (b_around).mean as around, (b_putting).mean as putting\n",
    "       from stan_sg_tournaments \n",
    "       where year = 2016 \n",
    "       and tag like 'sg-200';\n",
    "'''\n",
    "t_df = util.pd_from_sql(sqlTxt)\n",
    "sg_coef_map = t_df.set_index(['permanent_tournament_id']).T.to_dict('list')"
   ]
  },
  {
   "cell_type": "code",
   "execution_count": 114,
   "metadata": {
    "collapsed": false
   },
   "outputs": [],
   "source": [
    "p_sqlTxt = '''\n",
    "select name, permanent_tournament_id, round, scores.sg_tee as tee, scores.sg_approach as approach, \n",
    "       scores.sg_around as around, scores.sg_putting as putting \n",
    "    from scores, players \n",
    "    where year = %s \n",
    "      and scores.player_id = %s \n",
    "      and scores.player_id = players.player_id\n",
    "      and scores.sg_putting is not null\n",
    "      order by date;\n",
    "'''"
   ]
  },
  {
   "cell_type": "code",
   "execution_count": null,
   "metadata": {
    "collapsed": false
   },
   "outputs": [
    {
     "name": "stderr",
     "output_type": "stream",
     "text": [
      "INFO:pystan:COMPILING THE C++ CODE FOR MODEL anon_model_09b67b94dc836f93d73b5592b851118d NOW.\n"
     ]
    }
   ],
   "source": [
    "stan_model = StanModel(model_code=code);\n",
    "print 'done with compilation'\n",
    "for p_id in [24502]:\n",
    "    players_df = util.pd_from_sql(p_sqlTxt, [year, p_id])\n",
    "    y_all = [players_df[sg].as_matrix() for sg in['tee', 'approach', 'around', 'tee'] ]\n",
    "    s_coefs = [sg_coef_map[i] for i in players_df['permanent_tournament_id'].as_matrix()]\n",
    "    for j in range(0, len (s_coefs) - num_scores):\n",
    "        y = [y_all[m][j:j+num_scores] for m in range(0,4)]\n",
    "        s_coef = s_coefs[j+num_scores]\n",
    "        data = { 'N': len (y[0]), 'y': y, 'sg_n' : 4, 's_coef' : s_coef }\n",
    "        fit = stan_model.sampling(data=data, iter=1000, chains=4)\n",
    "        print fit\n",
    "        break\n"
   ]
  },
  {
   "cell_type": "code",
   "execution_count": 119,
   "metadata": {
    "collapsed": false
   },
   "outputs": [
    {
     "name": "stdout",
     "output_type": "stream",
     "text": [
      "0\n"
     ]
    }
   ],
   "source": [
    "for i in range(0, 4):\n",
    "    print i\n",
    "    break"
   ]
  },
  {
   "cell_type": "code",
   "execution_count": 82,
   "metadata": {
    "collapsed": false
   },
   "outputs": [
    {
     "ename": "NameError",
     "evalue": "name 's_coef' is not defined",
     "output_type": "error",
     "traceback": [
      "\u001b[0;31m-----------------------------------------------------------------\u001b[0m",
      "\u001b[0;31mNameError\u001b[0m                       Traceback (most recent call last)",
      "\u001b[0;32m<ipython-input-82-50d308e83f23>\u001b[0m in \u001b[0;36m<module>\u001b[0;34m()\u001b[0m\n\u001b[1;32m     34\u001b[0m     \u001b[0;34m'y'\u001b[0m\u001b[0;34m:\u001b[0m \u001b[0my\u001b[0m\u001b[0;34m,\u001b[0m\u001b[0;34m\u001b[0m\u001b[0m\n\u001b[1;32m     35\u001b[0m     \u001b[0;34m'sg_n'\u001b[0m \u001b[0;34m:\u001b[0m \u001b[0;36m4\u001b[0m\u001b[0;34m,\u001b[0m\u001b[0;34m\u001b[0m\u001b[0m\n\u001b[0;32m---> 36\u001b[0;31m     \u001b[0;34m's_coef'\u001b[0m \u001b[0;34m:\u001b[0m \u001b[0ms_coef\u001b[0m\u001b[0;34m\u001b[0m\u001b[0m\n\u001b[0m\u001b[1;32m     37\u001b[0m }\n\u001b[1;32m     38\u001b[0m \u001b[0;34m\u001b[0m\u001b[0m\n",
      "\u001b[0;31mNameError\u001b[0m: name 's_coef' is not defined"
     ]
    }
   ],
   "source": [
    "\n",
    "\n",
    "\n",
    "data = {\n",
    "    'N': len (y[0]),\n",
    "    'y': y,\n",
    "    'sg_n' : 4,\n",
    "    's_coef' : s_coef\n",
    "}\n",
    "\n",
    "fit = pystan.stan(model_code=code, data=data, iter=1000, chains=4)\n",
    "# params = fs = fit.summary()['summary']\n",
    "print fit"
   ]
  },
  {
   "cell_type": "code",
   "execution_count": 64,
   "metadata": {
    "collapsed": false
   },
   "outputs": [
    {
     "name": "stdout",
     "output_type": "stream",
     "text": [
      "Inference for Stan model: anon_model_5ba58b23c8ed993b96402931dd3cdf47.\n",
      "4 chains, each with iter=1000; warmup=500; thin=1; \n",
      "post-warmup draws per chain=500, total post-warmup draws=2000.\n",
      "\n",
      "                   mean se_mean     sd   2.5%    25%    50%    75%  97.5%  n_eff   Rhat\n",
      "alpha[0,0]         0.81  5.3e-3   0.24   0.34   0.65    0.8   0.96   1.27 2000.0    1.0\n",
      "alpha[1,0]         0.78  7.5e-3   0.34   0.12   0.56   0.78    1.0   1.44 2000.0    1.0\n",
      "alpha[2,0]         0.43  4.0e-3   0.18   0.07   0.31   0.43   0.55   0.79 2000.0    1.0\n",
      "alpha[3,0]         0.81  5.1e-3   0.23   0.37   0.66    0.8   0.96   1.25 2000.0    1.0\n",
      "alpha[0,1]         0.49  4.6e-3    0.2   0.07   0.36   0.49   0.62   0.88 2000.0    1.0\n",
      "alpha[1,1]         0.37  7.0e-3   0.31  -0.22   0.15   0.37   0.59   1.01 2000.0    1.0\n",
      "alpha[2,1]         0.32  4.0e-3   0.18  -0.01    0.2   0.32   0.44   0.69 2000.0    1.0\n",
      "alpha[3,1]         0.49  4.7e-3   0.21   0.07   0.35   0.49   0.63   0.91 2000.0    1.0\n",
      "beta[0]            0.23  3.0e-3   0.12  -0.03   0.14   0.23   0.31   0.46 1727.0    1.0\n",
      "beta[1]            0.04  2.9e-3   0.13  -0.22  -0.05   0.03   0.12    0.3 2000.0    1.0\n",
      "beta[2]            0.15  2.8e-3   0.12   -0.1   0.07   0.16   0.24   0.39 2000.0    1.0\n",
      "beta[3]            0.23  3.0e-3   0.13  -0.02   0.14   0.23   0.31   0.47 1785.0    1.0\n",
      "sigma[0]           1.08  2.3e-3    0.1    0.9    1.0   1.07   1.14    1.3 2000.0    1.0\n",
      "sigma[1]            1.8  3.7e-3   0.16   1.52   1.69   1.79    1.9   2.18 2000.0    1.0\n",
      "sigma[2]           0.95  2.0e-3   0.09    0.8   0.89   0.94    1.0   1.14 2000.0    1.0\n",
      "sigma[3]           1.07  2.2e-3    0.1   0.91   1.01   1.07   1.13   1.29 2000.0    1.0\n",
      "y_tilda[0,0]       0.85    0.03   1.16  -1.56   0.11   0.86   1.58   3.19 2000.0    1.0\n",
      "y_tilda[1,0]       0.37    0.04   1.88  -3.32  -0.84   0.32   1.63   4.11 2000.0    1.0\n",
      "y_tilda[2,0]       0.22    0.02   0.98  -1.62  -0.45   0.23   0.89   2.13 2000.0    1.0\n",
      "y_tilda[3,0]       0.83    0.02   1.09  -1.27   0.08   0.83   1.59   2.98 2000.0    1.0\n",
      "y_tilda[0,1]       0.69    0.02   1.12  -1.51  -0.05   0.67   1.42   2.87 2000.0    1.0\n",
      "y_tilda[1,1]       0.41    0.04    1.8  -3.13  -0.84   0.42   1.67    3.9 2000.0    1.0\n",
      "y_tilda[2,1]       0.35    0.02   0.97   -1.6   -0.3   0.34   0.98   2.28 2000.0    1.0\n",
      "y_tilda[3,1]       0.67    0.03   1.14  -1.63  -0.07   0.65   1.42   2.95 2000.0    1.0\n",
      "y_tilda[0,2]       0.63    0.03   1.16  -1.72  -0.15   0.64   1.41   2.81 2000.0    1.0\n",
      "y_tilda[1,2]       0.46    0.04   1.94  -3.35  -0.84   0.45   1.74   4.32 2000.0    1.0\n",
      "y_tilda[2,2]       0.42    0.02   0.95  -1.49  -0.18   0.41   1.05   2.29 2000.0    1.0\n",
      "y_tilda[3,2]       0.64    0.02   1.09   -1.5  -0.07   0.64   1.36   2.71 2000.0    1.0\n",
      "y_tilda[0,3]       0.63    0.03   1.14  -1.64  -0.11   0.66   1.37   2.84 2000.0    1.0\n",
      "y_tilda[1,3]       0.37    0.04   1.82  -3.06   -0.9   0.36   1.67   3.84 2000.0    1.0\n",
      "y_tilda[2,3]       0.39    0.02   1.01  -1.67  -0.27   0.41   1.07   2.25 2000.0    1.0\n",
      "y_tilda[3,3]       0.65    0.03   1.15  -1.58  -0.13   0.67   1.45   2.85 2000.0    1.0\n",
      "score_predict[0]   69.3    0.06   2.65  64.17  67.53  69.25  71.05  74.53 2000.0    1.0\n",
      "score_predict[1]  69.45    0.06   2.49  64.48  67.77  69.44  71.08  74.43 2000.0    1.0\n",
      "score_predict[2]  69.42    0.06   2.64  64.18  67.68   69.4  71.26  74.58 2000.0    1.0\n",
      "score_predict[3]  69.53    0.06   2.71  64.42  67.69  69.52  71.38  74.89 2000.0    1.0\n",
      "lp__             -181.4    0.16   4.21 -190.5 -184.0 -180.9 -178.4 -174.1  707.0    1.0\n",
      "\n",
      "Samples were drawn using NUTS at Sat Aug 12 20:45:48 2017.\n",
      "For each parameter, n_eff is a crude measure of effective sample size,\n",
      "and Rhat is the potential scale reduction factor on split chains (at \n",
      "convergence, Rhat=1).\n"
     ]
    }
   ],
   "source": [
    "print fit"
   ]
  },
  {
   "cell_type": "code",
   "execution_count": null,
   "metadata": {
    "collapsed": true
   },
   "outputs": [],
   "source": []
  },
  {
   "cell_type": "code",
   "execution_count": null,
   "metadata": {
    "collapsed": true
   },
   "outputs": [],
   "source": [
    "\n"
   ]
  },
  {
   "cell_type": "code",
   "execution_count": 14,
   "metadata": {
    "collapsed": false
   },
   "outputs": [
    {
     "name": "stderr",
     "output_type": "stream",
     "text": [
      "INFO:pystan:COMPILING THE C++ CODE FOR MODEL anon_model_6abda944bb0b6acb21d3626f5be8dfef NOW.\n"
     ]
    },
    {
     "name": "stdout",
     "output_type": "stream",
     "text": [
      "Inference for Stan model: anon_model_6abda944bb0b6acb21d3626f5be8dfef.\n",
      "4 chains, each with iter=1000; warmup=500; thin=1; \n",
      "post-warmup draws per chain=500, total post-warmup draws=2000.\n",
      "\n",
      "           mean se_mean     sd   2.5%    25%    50%    75%  97.5%  n_eff   Rhat\n",
      "mu         0.61  9.2e-3   0.26   0.17   0.44    0.6   0.76   1.16  766.0    1.0\n",
      "phi[0]     0.33    0.02   0.34  -0.46   0.14   0.41   0.57   0.85  295.0   1.02\n",
      "phi[1]    -0.45    0.02   0.32   -0.9  -0.67  -0.51  -0.28   0.33  262.0   1.03\n",
      "theta[0]   -0.1    0.02    0.3  -0.59  -0.31  -0.16   0.06   0.62  300.0   1.02\n",
      "theta[1]    0.6    0.01   0.31  -0.18   0.46   0.68   0.84   0.97  450.0   1.02\n",
      "sigma      1.01  2.8e-3    0.1   0.84   0.94    1.0   1.07   1.22 1223.0    1.0\n",
      "y_tilda    0.62    0.03   1.08  -1.45  -0.09   0.63   1.31   2.82 1249.0    1.0\n",
      "lp__     -33.79    0.09   2.05 -38.48 -34.94  -33.4 -32.31 -30.78  523.0    1.0\n",
      "\n",
      "Samples were drawn using NUTS at Thu Aug 10 22:57:51 2017.\n",
      "For each parameter, n_eff is a crude measure of effective sample size,\n",
      "and Rhat is the potential scale reduction factor on split chains (at \n",
      "convergence, Rhat=1).\n"
     ]
    }
   ],
   "source": [
    "\n",
    "code = '''\n",
    "data {\n",
    "    int<lower=1> T;\n",
    "    real y[T];\n",
    "}\n",
    "parameters {\n",
    "    real mu;\n",
    "    vector<lower = -1, upper = 1>[2] phi;\n",
    "    vector<lower = -1, upper = 1>[2] theta;\n",
    "    real<lower=0> sigma;\n",
    "    real y_tilda;\n",
    "} \n",
    "model {\n",
    "    vector[T] nu;\n",
    "    vector[T] err;\n",
    "    nu[1] = mu + phi[1] * mu;\n",
    "    err[1] = y[1] - nu[1];\n",
    "    nu[2] = mu + phi[1]*y[1] + theta[1]*err[1];\n",
    "    err[2] = y[2] - nu[2];\n",
    "    for (t in 3:T) {\n",
    "        nu[t] = mu + phi[1] * y[t-1] + phi[2]*y[t-2] \n",
    "              + theta[1] * err[t-1] + theta[2] * err[t-2];\n",
    "        err[t] = y[t] - nu[t];\n",
    "    }\n",
    "    mu ~ normal(0, 10);\n",
    "    phi ~ normal(0, 2);\n",
    "    theta ~ normal(0, 2);\n",
    "    sigma ~ cauchy(0, 5);\n",
    "    err ~ normal(0, sigma);\n",
    "    y_tilda ~ normal(mu + y[T]*phi[1]+y[T-1]*phi[2] + theta[1]*err[T] + theta[2]*err[T-1], sigma);\n",
    "}\n",
    "\n",
    "'''\n",
    "y =  [ 2.352,  2.619,  3.292,  2.657,  0.739,  1.115,  0.148,  0.572,\n",
    "        0.859,  1.081,  1.104,  0.952, -1.324, -0.998,  1.124, -0.442,\n",
    "        0.824, -0.825, -2.64 , -0.563,  1.129,  1.047,  0.943,  0.781,\n",
    "       -0.933,  0.124,  0.341,  1.1  , -0.282,  1.173,  0.089,  1.544,\n",
    "        0.026, -0.855,  1.448,  0.426, -0.245,  1.346, -0.36 , -0.328,\n",
    "        0.482,  0.614,  0.572,  0.737, -0.097,  1.668, -0.012,  0.97 ,\n",
    "       -0.898,  0.159,  1.543, -0.297,  1.257,  0.761,  0.725,  0.629,\n",
    "        1.871,  0.061]\n",
    "data = {\n",
    "    'T': len (y),\n",
    "    'y': y\n",
    "}\n",
    "\n",
    "fit = pystan.stan(model_code=code, data=data, iter=1000, chains=4)\n",
    "# params = fs = fit.summary()['summary']\n",
    "print fit"
   ]
  },
  {
   "cell_type": "code",
   "execution_count": null,
   "metadata": {
    "collapsed": false
   },
   "outputs": [],
   "source": [
    "\n",
    "# \n",
    "\n",
    "code = '''\n",
    "data {\n",
    "    int<lower=1> N_SEG;\n",
    "    int<lower=2> N;\n",
    "    matrix[4,N] y;\n",
    "    int<lower=2> N_PRED;\n",
    "    real s_base;\n",
    "}\n",
    "parameters {\n",
    "    matrix[4,N_SEG] alpha;\n",
    "    vector[4] beta;\n",
    "    vector<lower=0>[4] sigma;\n",
    "    matrix[4,N_PRED] y_tilda;\n",
    "} \n",
    "model {\n",
    "    int m;\n",
    "    for (k in 1:4) {\n",
    "        for (n in 2:N) {\n",
    "            m = (n-1)*N_SEG/N + 1;\n",
    "            y[k][n] ~ normal(alpha[k][m]+ beta[k] * y[k][n-1], sigma[k]);\n",
    "        }\n",
    "    }\n",
    "    for (j in 1:4) {\n",
    "        y_tilda[j][1] ~ normal(alpha[j][N_SEG]+ beta[j] * y[j][N], sigma[j]);\n",
    "        for (i in 2:N_PRED) {\n",
    "            y_tilda[j][i] ~ normal(alpha[j][N_SEG] + beta[j]* y_tilda[j][i-1], sigma[j]);\n",
    "        }\n",
    "    }\n",
    "}\n",
    "generated quantities {\n",
    "      vector[N_PRED] score_predict;\n",
    "      for (l in 1:N_PRED) {\n",
    "        score_predict[l] = s_base - y_tilda[1][l] - y_tilda[2][l] - y_tilda[3][l] - y_tilda[4][l];\n",
    "    }\n",
    "}\n",
    "\n",
    "'''\n",
    "data = {\n",
    "    'N': len (y[0]),\n",
    "    'y': y,\n",
    "    'N_SEG' : 2,\n",
    "    'N_PRED' :4, \n",
    "    's_base' : 71.571\n",
    "}\n",
    "\n",
    "fit = pystan.stan(model_code=code, data=data, iter=1000, chains=4)\n",
    "# params = fs = fit.summary()['summary']\n",
    "print fit"
   ]
  }
 ],
 "metadata": {
  "kernelspec": {
   "display_name": "Python 2",
   "language": "python",
   "name": "python2"
  },
  "language_info": {
   "codemirror_mode": {
    "name": "ipython",
    "version": 2
   },
   "file_extension": ".py",
   "mimetype": "text/x-python",
   "name": "python",
   "nbconvert_exporter": "python",
   "pygments_lexer": "ipython2",
   "version": "2.7.13"
  }
 },
 "nbformat": 4,
 "nbformat_minor": 2
}
