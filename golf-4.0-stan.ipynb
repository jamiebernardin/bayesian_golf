{
 "cells": [
  {
   "cell_type": "code",
   "execution_count": 6,
   "metadata": {
    "collapsed": false
   },
   "outputs": [
    {
     "name": "stderr",
     "output_type": "stream",
     "text": [
      "INFO:pystan:COMPILING THE C++ CODE FOR MODEL anon_model_fbfb2c0a1a7cb8af07b24a70f161a334 NOW.\n"
     ]
    },
    {
     "name": "stdout",
     "output_type": "stream",
     "text": [
      "Inference for Stan model: anon_model_fbfb2c0a1a7cb8af07b24a70f161a334.\n",
      "4 chains, each with iter=1000; warmup=500; thin=1; \n",
      "post-warmup draws per chain=500, total post-warmup draws=2000.\n",
      "\n",
      "           mean se_mean     sd   2.5%    25%    50%    75%  97.5%  n_eff   Rhat\n",
      "mu          1.4    0.04   0.58   0.39   0.96   1.37   1.81   2.55  231.0   1.01\n",
      "phi[0]    -0.44    0.03   0.41  -0.99  -0.76  -0.51  -0.21   0.56  175.0   1.01\n",
      "phi[1]    -0.27    0.02    0.3  -0.84  -0.47  -0.26  -0.07    0.3  172.0   1.01\n",
      "theta[0]    0.3    0.03   0.41  -0.69   0.04   0.35   0.61   0.97  156.0   1.01\n",
      "theta[1]   0.06    0.03   0.34  -0.53  -0.18   0.03   0.29   0.77  168.0   1.01\n",
      "sigma       2.0  9.9e-3    0.2   1.65   1.85   1.98   2.13   2.42  409.0   1.01\n",
      "lp__     -72.33     0.1   1.95 -76.98 -73.47 -71.97 -70.89 -69.57  365.0   1.01\n",
      "\n",
      "Samples were drawn using NUTS at Thu Aug 10 21:00:30 2017.\n",
      "For each parameter, n_eff is a crude measure of effective sample size,\n",
      "and Rhat is the potential scale reduction factor on split chains (at \n",
      "convergence, Rhat=1).\n"
     ]
    }
   ],
   "source": [
    "import pystan\n"
   ]
  },
  {
   "cell_type": "code",
   "execution_count": null,
   "metadata": {
    "collapsed": true
   },
   "outputs": [],
   "source": [
    "\n",
    "code = '''\n",
    "data {\n",
    "    int<lower=1> T;\n",
    "    real y[T];\n",
    "}\n",
    "parameters {\n",
    "    real mu;\n",
    "    vector<lower = -1, upper = 1>[2] phi;\n",
    "    vector<lower = -1, upper = 1>[2] theta;\n",
    "    real<lower=0> sigma;\n",
    "} \n",
    "model {\n",
    "    vector[T] nu;\n",
    "    vector[T] err;\n",
    "    nu[1] = mu + phi[1] * mu;\n",
    "    err[1] = y[1] - nu[1];\n",
    "    nu[2] = mu + phi[1]*y[1] + theta[1]*err[1];\n",
    "    err[2] = y[2] - nu[2];\n",
    "    for (t in 3:T) {\n",
    "        nu[t] = mu + phi[1] * y[t-1] + phi[2]*y[t-2] \n",
    "              + theta[1] * err[t-1] + theta[2] * err[t-2];\n",
    "        err[t] = y[t] - nu[t];\n",
    "    }\n",
    "    mu ~ normal(0, 10);\n",
    "    phi ~ normal(0, 2);\n",
    "    theta ~ normal(0, 2);\n",
    "    sigma ~ cauchy(0, 5);\n",
    "    err ~ normal(0, sigma);\n",
    "}\n",
    "'''\n",
    "y =  [ 0.596,  2.127,  3.093,  0.423, -1.508,  3.28 , -5.571,  2.623,\n",
    "        1.335, -1.234, -0.364,  0.081, -1.076, -0.791,  1.715,  1.266,\n",
    "        0.566, -1.333,  1.871,  2.429, -2.064, -0.336,  1.407,  2.787,\n",
    "        2.743, -3.073,  1.335,  1.163,  2.982,  4.317,  2.913,  0.432,\n",
    "       -3.238,  1.785,  2.766,  2.252,  1.024,  2.167, -0.334, -0.106,\n",
    "        1.959, -0.784,  0.387,  2.816, -0.762, -1.897,  1.99 , -0.965,\n",
    "        2.714,  1.237,  0.701,  3.814, -1.459,  1.021,  4.114,  0.038,\n",
    "       -1.391,  2.91 ]\n",
    "data = {\n",
    "    'T': len (y),\n",
    "    'y': y\n",
    "}\n",
    "\n",
    "fit = pystan.stan(model_code=code, data=data, iter=1000, chains=4)\n",
    "# params = fs = fit.summary()['summary']\n",
    "print fit"
   ]
  },
  {
   "cell_type": "code",
   "execution_count": 10,
   "metadata": {
    "collapsed": false
   },
   "outputs": [
    {
     "name": "stderr",
     "output_type": "stream",
     "text": [
      "INFO:pystan:COMPILING THE C++ CODE FOR MODEL anon_model_6abda944bb0b6acb21d3626f5be8dfef NOW.\n"
     ]
    },
    {
     "name": "stdout",
     "output_type": "stream",
     "text": [
      "Inference for Stan model: anon_model_6abda944bb0b6acb21d3626f5be8dfef.\n",
      "4 chains, each with iter=1000; warmup=500; thin=1; \n",
      "post-warmup draws per chain=500, total post-warmup draws=2000.\n",
      "\n",
      "           mean se_mean     sd   2.5%    25%    50%    75%  97.5%  n_eff   Rhat\n",
      "mu         1.37    0.04   0.57   0.44   0.95   1.31   1.74   2.67  239.0   1.01\n",
      "phi[0]    -0.44    0.03   0.43  -0.99   -0.8  -0.52  -0.16   0.59  187.0   1.01\n",
      "phi[1]    -0.25    0.02   0.28  -0.82  -0.43  -0.24  -0.06   0.25  270.0    1.0\n",
      "theta[0]   0.28    0.03   0.44  -0.76 2.8e-3   0.36   0.63   0.91  191.0   1.01\n",
      "theta[1]   0.04    0.02   0.32  -0.48  -0.19   0.01   0.24   0.73  216.0   1.01\n",
      "sigma      1.98  8.5e-3   0.19   1.61   1.86   1.97    2.1   2.39  515.0   1.01\n",
      "y_tilda    0.78    0.08   2.03  -3.09  -0.68   0.78   2.25   4.64  662.0    1.0\n",
      "lp__     -73.37    0.13   2.19 -78.61 -74.52 -73.07 -71.74 -70.37  305.0   1.01\n",
      "\n",
      "Samples were drawn using NUTS at Thu Aug 10 22:32:39 2017.\n",
      "For each parameter, n_eff is a crude measure of effective sample size,\n",
      "and Rhat is the potential scale reduction factor on split chains (at \n",
      "convergence, Rhat=1).\n"
     ]
    }
   ],
   "source": [
    "\n",
    "code = '''\n",
    "data {\n",
    "    int<lower=1> T;\n",
    "    real y[T];\n",
    "}\n",
    "parameters {\n",
    "    real mu;\n",
    "    vector<lower = -1, upper = 1>[2] phi;\n",
    "    vector<lower = -1, upper = 1>[2] theta;\n",
    "    real<lower=0> sigma;\n",
    "    real y_tilda;\n",
    "} \n",
    "model {\n",
    "    vector[T] nu;\n",
    "    vector[T] err;\n",
    "    nu[1] = mu + phi[1] * mu;\n",
    "    err[1] = y[1] - nu[1];\n",
    "    nu[2] = mu + phi[1]*y[1] + theta[1]*err[1];\n",
    "    err[2] = y[2] - nu[2];\n",
    "    for (t in 3:T) {\n",
    "        nu[t] = mu + phi[1] * y[t-1] + phi[2]*y[t-2] \n",
    "              + theta[1] * err[t-1] + theta[2] * err[t-2];\n",
    "        err[t] = y[t] - nu[t];\n",
    "    }\n",
    "    mu ~ normal(0, 10);\n",
    "    phi ~ normal(0, 2);\n",
    "    theta ~ normal(0, 2);\n",
    "    sigma ~ cauchy(0, 5);\n",
    "    err ~ normal(0, sigma);\n",
    "    y_tilda ~ normal(mu + y[T]*phi[1]+y[T-1]*phi[2] + theta[1]*err[T] + theta[2]*err[T-1], sigma);\n",
    "}\n",
    "\n",
    "'''\n",
    "y =  [ 0.596,  2.127,  3.093,  0.423, -1.508,  3.28 , -5.571,  2.623,\n",
    "        1.335, -1.234, -0.364,  0.081, -1.076, -0.791,  1.715,  1.266,\n",
    "        0.566, -1.333,  1.871,  2.429, -2.064, -0.336,  1.407,  2.787,\n",
    "        2.743, -3.073,  1.335,  1.163,  2.982,  4.317,  2.913,  0.432,\n",
    "       -3.238,  1.785,  2.766,  2.252,  1.024,  2.167, -0.334, -0.106,\n",
    "        1.959, -0.784,  0.387,  2.816, -0.762, -1.897,  1.99 , -0.965,\n",
    "        2.714,  1.237,  0.701,  3.814, -1.459,  1.021,  4.114,  0.038,\n",
    "       -1.391,  2.91 ]\n",
    "data = {\n",
    "    'T': len (y),\n",
    "    'y': y\n",
    "}\n",
    "\n",
    "fit = pystan.stan(model_code=code, data=data, iter=1000, chains=4)\n",
    "# params = fs = fit.summary()['summary']\n",
    "print fit"
   ]
  },
  {
   "cell_type": "code",
   "execution_count": null,
   "metadata": {
    "collapsed": true
   },
   "outputs": [],
   "source": []
  }
 ],
 "metadata": {
  "kernelspec": {
   "display_name": "Python 2",
   "language": "python",
   "name": "python2"
  },
  "language_info": {
   "codemirror_mode": {
    "name": "ipython",
    "version": 2
   },
   "file_extension": ".py",
   "mimetype": "text/x-python",
   "name": "python",
   "nbconvert_exporter": "python",
   "pygments_lexer": "ipython2",
   "version": "2.7.13"
  }
 },
 "nbformat": 4,
 "nbformat_minor": 2
}
